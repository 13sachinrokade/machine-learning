{
 "cells": [
  {
   "cell_type": "code",
   "execution_count": 3,
   "metadata": {},
   "outputs": [],
   "source": [
    "import numpy as np\n",
    "import pandas as pd\n",
    "from sklearn.utils import resample\n",
    "from sklearn.metrics import accuracy_score\n",
    "from matplotlib import pyplot\n"
   ]
  },
  {
   "cell_type": "code",
   "execution_count": 4,
   "metadata": {},
   "outputs": [
    {
     "data": {
      "text/plain": [
       "array([180, 162, 158, 172, 168, 150, 171, 183, 165, 176])"
      ]
     },
     "execution_count": 4,
     "metadata": {},
     "output_type": "execute_result"
    }
   ],
   "source": [
    "x=np.array([180,162,158,172,168,150,171,183,165,176])\n",
    "x"
   ]
  },
  {
   "cell_type": "code",
   "execution_count": 6,
   "metadata": {},
   "outputs": [
    {
     "data": {
      "text/plain": [
       "10"
      ]
     },
     "execution_count": 6,
     "metadata": {},
     "output_type": "execute_result"
    }
   ],
   "source": [
    "len(x)"
   ]
  },
  {
   "cell_type": "code",
   "execution_count": 12,
   "metadata": {},
   "outputs": [],
   "source": [
    "n_iterations=100\n",
    "n_size=int(len(x))\n"
   ]
  },
  {
   "cell_type": "code",
   "execution_count": 14,
   "metadata": {},
   "outputs": [
    {
     "name": "stdout",
     "output_type": "stream",
     "text": [
      "10 166.5\n",
      "10 162.0\n",
      "10 171.5\n",
      "10 162.0\n",
      "10 172.0\n",
      "10 169.5\n",
      "10 165.0\n",
      "10 178.0\n",
      "10 168.0\n",
      "10 169.5\n",
      "10 169.5\n",
      "10 165.0\n",
      "10 171.5\n",
      "10 165.0\n",
      "10 168.0\n",
      "10 173.5\n",
      "10 158.0\n",
      "10 171.5\n",
      "10 169.5\n",
      "10 171.5\n",
      "10 170.0\n",
      "10 165.0\n",
      "10 163.5\n",
      "10 165.0\n",
      "10 168.0\n",
      "10 165.0\n",
      "10 168.0\n",
      "10 173.5\n",
      "10 168.5\n",
      "10 171.0\n",
      "10 171.5\n",
      "10 160.0\n",
      "10 169.5\n",
      "10 171.5\n",
      "10 172.0\n",
      "10 176.0\n",
      "10 172.0\n",
      "10 166.5\n",
      "10 173.5\n",
      "10 166.5\n",
      "10 168.0\n",
      "10 173.5\n",
      "10 170.0\n",
      "10 163.5\n",
      "10 174.0\n",
      "10 166.5\n",
      "10 168.5\n",
      "10 174.0\n",
      "10 169.5\n",
      "10 166.5\n",
      "10 168.0\n",
      "10 174.0\n",
      "10 160.0\n",
      "10 171.0\n",
      "10 168.0\n",
      "10 165.0\n",
      "10 176.0\n",
      "10 165.0\n",
      "10 175.5\n",
      "10 165.0\n",
      "10 166.5\n",
      "10 170.0\n",
      "10 168.0\n",
      "10 169.5\n",
      "10 171.5\n",
      "10 174.0\n",
      "10 172.0\n",
      "10 171.5\n",
      "10 169.5\n",
      "10 171.0\n",
      "10 171.5\n",
      "10 171.0\n",
      "10 171.0\n",
      "10 176.0\n",
      "10 178.0\n",
      "10 165.0\n",
      "10 172.0\n",
      "10 180.0\n",
      "10 171.5\n",
      "10 166.5\n",
      "10 158.0\n",
      "10 168.0\n",
      "10 166.5\n",
      "10 168.5\n",
      "10 170.0\n",
      "10 174.0\n",
      "10 169.5\n",
      "10 168.0\n",
      "10 171.5\n",
      "10 166.5\n",
      "10 169.5\n",
      "10 166.5\n",
      "10 171.5\n",
      "10 174.0\n",
      "10 166.5\n",
      "10 165.0\n",
      "10 174.0\n",
      "10 176.0\n",
      "10 174.0\n",
      "10 166.5\n"
     ]
    }
   ],
   "source": [
    "medians=[]\n",
    "for i in range(n_iterations):\n",
    "    s=resample(x,n_samples=n_size)\n",
    "    m=np.median(s)\n",
    "    medians.append(m)\n",
    "    print(len(s),m)"
   ]
  },
  {
   "cell_type": "markdown",
   "metadata": {},
   "source": [
    "here duplicates are allowed thats the change of meadins due to that"
   ]
  },
  {
   "cell_type": "code",
   "execution_count": 15,
   "metadata": {},
   "outputs": [
    {
     "data": {
      "image/png": "[encoded data removed]",
      "text/plain": [
       "<Figure size 432x288 with 1 Axes>"
      ]
     },
     "metadata": {
      "needs_background": "light"
     },
     "output_type": "display_data"
    }
   ],
   "source": [
    "pyplot.hist(medians)\n",
    "pyplot.show()"
   ]
  },
  {
   "cell_type": "markdown",
   "metadata": {},
   "source": [
    " for knowing the 95% confidence interval\n",
    " "
   ]
  },
  {
   "cell_type": "code",
   "execution_count": 19,
   "metadata": {},
   "outputs": [
    {
     "name": "stdout",
     "output_type": "stream",
     "text": [
      "160.0 176.0\n"
     ]
    }
   ],
   "source": [
    "alpha=0.95\n",
    "p=((1-alpha)/2.0)*100\n",
    "lower=numpy.percentile(medians,p)\n",
    "p=(alpha+((1-alpha)/2))*100\n",
    "upper1=numpy.percentile(medians,p)\n",
    "upper=numpy.percentile(medians,alpha*100)\n",
    "print(lower,upper)"
   ]
  },
  {
   "cell_type": "code",
   "execution_count": null,
   "metadata": {},
   "outputs": [],
   "source": []
  }
 ],
 "metadata": {
  "kernelspec": {
   "display_name": "Python 3",
   "language": "python",
   "name": "python3"
  },
  "language_info": {
   "codemirror_mode": {
    "name": "ipython",
    "version": 3
   },
   "file_extension": ".py",
   "mimetype": "text/x-python",
   "name": "python",
   "nbconvert_exporter": "python",
   "pygments_lexer": "ipython3",
   "version": "3.7.3"
  }
 },
 "nbformat": 4,
 "nbformat_minor": 2
}
