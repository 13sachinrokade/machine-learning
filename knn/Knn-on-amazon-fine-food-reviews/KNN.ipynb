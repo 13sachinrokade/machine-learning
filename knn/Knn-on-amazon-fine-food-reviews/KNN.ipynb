{
 "cells": [
  {
   "cell_type": "markdown",
   "metadata": {},
   "source": [
    "# [1] Amazon Fine Food Reviews Analysis\n",
    "\n",
    "\n",
    "Data Source: https://www.kaggle.com/snap/amazon-fine-food-reviews\n",
    "\n",
    "The Amazon Fine Food Reviews dataset consists of reviews of fine foods from Amazon.<br>\n",
    "\n",
    "Number of reviews: 568,454<br>\n",
    "Number of users: 256,059<br>\n",
    "Number of products: 74,258<br>\n",
    "Timespan: Oct 1999 - Oct 2012<br>\n",
    "Number of Attributes/Columns in data: 10 \n",
    "\n",
    "Attribute Information:\n",
    "\n",
    "1. Id\n",
    "2. ProductId - unique identifier for the product\n",
    "3. UserId - unqiue identifier for the user\n",
    "4. ProfileName\n",
    "5. HelpfulnessNumerator - number of users who found the review helpful\n",
    "6. HelpfulnessDenominator - number of users who indicated whether they found the review helpful or not\n",
    "7. Score - rating between 1 and 5\n",
    "8. Time - timestamp for the review\n",
    "9. Summary - brief summary of the review\n",
    "10. Text - text of the review\n",
    "\n",
    "\n",
    "#### Objective:\n",
    "Given a review, determine whether the review is positive (Rating of 4 or 5) or negative (rating of 1 or 2).\n",
    "\n",
    "<br>\n",
    "[Q] How to determine if a review is positive or negative?<br>\n",
    "<br> \n",
    "[Ans] We could use the Score/Rating. A rating of 4 or 5 could be cosnidered a positive review. A review of 1 or 2 could be considered negative. A review of 3 is nuetral and ignored. This is an approximate and proxy way of determining the polarity (positivity/negativity) of a review.\n",
    "\n",
    "\n"
   ]
  },
  {
   "cell_type": "markdown",
   "metadata": {},
   "source": [
    "## Loading the data\n",
    "\n",
    "The dataset is available in two forms\n",
    "1. .csv file\n",
    "2. SQLite Database\n",
    "\n",
    "In order to load the data, We have used the SQLITE dataset as it easier to query the data and visualise the data efficiently.\n",
    "<br> \n",
    "\n",
    "Here as we only want to get the global sentiment of the recommendations (positive or negative), we will purposefully ignore all Scores equal to 3. If the score id above 3, then the recommendation wil be set to \"positive\". Otherwise, it will be set to \"negative\"."
   ]
  },
  {
   "cell_type": "markdown",
   "metadata": {},
   "source": [
    "# Task Performed:\n",
    "1. we need to work with 2 versions of KNN\n",
    "a. brute force\n",
    "b. kd tree\n",
    "2. we suggest you not to go with GridsearchCV or k-fold as they take more time, use\n",
    "Simple Cross validation dataset to find the best hyperparameters, and use the test\n",
    "dataset report the final model performance\n",
    "3. When we are working with the kd tree, we need to pass the dense matrix(constraint in\n",
    "the sklearn library) So, when you are working on BOW and TFIDF we need to convert\n",
    "these things into dense matrices.\n",
    "\n",
    "    a. Using TruncatedSVD() this is exactly similar to PCA() and it can also accept\n",
    "    sparse matrices and returns a dense matrix with lower dimensions\n",
    "    i. Choosing the n_components we need to follow the elbow method\n",
    "\n",
    "    b. Use max_features=2000(this can be changed according to your computing\n",
    "    power) and min_df=50 (this can be changed according to your computing power)\n",
    "    in Countvectorizer and then use .toarray() function to convert the sparse matrix to\n",
    "    dense matrix.\n",
    "\n",
    "4. Choose different metric other than accuracy for choosing the best hyperparameter,\n",
    "which is apt for imbalanced datasets and accuracy sometimes gives us false conclusions\n",
    "about the model performance sometimes.\n",
    "5. For both of the algorithms, we can work with 10k(Due to less computing power because more data can cause the freezing state or hang your laptop if RAM is 4Gb) data points, Note that it will take more time you might need to wait."
   ]
  },
  {
   "cell_type": "code",
   "execution_count": 1,
   "metadata": {},
   "outputs": [
    {
     "name": "stderr",
     "output_type": "stream",
     "text": [
      "C:\\Users\\manish dogra\\Documents\\anaconda\\lib\\site-packages\\sklearn\\cross_validation.py:41: DeprecationWarning: This module was deprecated in version 0.18 in favor of the model_selection module into which all the refactored classes and functions are moved. Also note that the interface of the new CV iterators are different from that of this module. This module will be removed in 0.20.\n",
      "  \"This module will be removed in 0.20.\", DeprecationWarning)\n"
     ]
    }
   ],
   "source": [
    "import nltk\n",
    "from nltk.stem import PorterStemmer \n",
    "from nltk.stem.wordnet import WordNetLemmatizer\n",
    "from nltk.corpus import stopwords\n",
    "import re\n",
    "import string\n",
    "import sqlite3\n",
    "from sklearn.cross_validation import train_test_split\n",
    "from sklearn.cross_validation import cross_val_score\n",
    "from sklearn import cross_validation\n",
    "from sklearn.metrics import accuracy_score\n",
    "from sklearn.neighbors import KNeighborsClassifier\n",
    "import numpy as np\n",
    "import pandas as pd\n",
    "import matplotlib.pyplot as plt"
   ]
  },
  {
   "cell_type": "code",
   "execution_count": 2,
   "metadata": {},
   "outputs": [
    {
     "data": {
      "text/plain": [
       "(525814, 10)"
      ]
     },
     "execution_count": 2,
     "metadata": {},
     "output_type": "execute_result"
    }
   ],
   "source": [
    "con = sqlite3.connect(\"./amazon-fine-food-reviews/database.sqlite\")\n",
    "data = pd.read_sql_query('''\n",
    "SELECT *\n",
    "FROM reviews\n",
    "WHERE Score!=3\n",
    "''', con)\n",
    "data.shape"
   ]
  },
  {
   "cell_type": "markdown",
   "metadata": {},
   "source": [
    "# Data cleaning"
   ]
  },
  {
   "cell_type": "code",
   "execution_count": 3,
   "metadata": {},
   "outputs": [
    {
     "name": "stdout",
     "output_type": "stream",
     "text": [
      "(525814, 10)\n"
     ]
    }
   ],
   "source": [
    "data['Score']  = data[\"Score\"].apply(lambda x: 'positive' if x >= 4 else 'negative')\n",
    "data.head(10)\n",
    "print(data.shape)"
   ]
  },
  {
   "cell_type": "code",
   "execution_count": 4,
   "metadata": {},
   "outputs": [
    {
     "name": "stdout",
     "output_type": "stream",
     "text": [
      "(525812, 10)\n"
     ]
    }
   ],
   "source": [
    "data = data[data.HelpfulnessNumerator<=data.HelpfulnessDenominator]\n",
    "print(data.shape)"
   ]
  },
  {
   "cell_type": "markdown",
   "metadata": {},
   "source": [
    "<b>Observation:-</b> It was also seen that in two rows given below the value of HelpfulnessNumerator is greater than HelpfulnessDenominator which is not practically possible hence these two rows too are removed from calcualtions"
   ]
  },
  {
   "cell_type": "code",
   "execution_count": 5,
   "metadata": {
    "scrolled": true
   },
   "outputs": [
    {
     "data": {
      "text/html": [
       "<div>\n",
       "<style>\n",
       "    .dataframe thead tr:only-child th {\n",
       "        text-align: right;\n",
       "    }\n",
       "\n",
       "    .dataframe thead th {\n",
       "        text-align: left;\n",
       "    }\n",
       "\n",
       "    .dataframe tbody tr th {\n",
       "        vertical-align: top;\n",
       "    }\n",
       "</style>\n",
       "<table border=\"1\" class=\"dataframe\">\n",
       "  <thead>\n",
       "    <tr style=\"text-align: right;\">\n",
       "      <th></th>\n",
       "      <th>Id</th>\n",
       "      <th>ProductId</th>\n",
       "      <th>UserId</th>\n",
       "      <th>ProfileName</th>\n",
       "      <th>HelpfulnessNumerator</th>\n",
       "      <th>HelpfulnessDenominator</th>\n",
       "      <th>Score</th>\n",
       "      <th>Time</th>\n",
       "      <th>Summary</th>\n",
       "      <th>Text</th>\n",
       "    </tr>\n",
       "  </thead>\n",
       "  <tbody>\n",
       "    <tr>\n",
       "      <th>138693</th>\n",
       "      <td>150511</td>\n",
       "      <td>0006641040</td>\n",
       "      <td>A1C9K534BCI9GO</td>\n",
       "      <td>Laura Purdie Salas</td>\n",
       "      <td>0</td>\n",
       "      <td>0</td>\n",
       "      <td>positive</td>\n",
       "      <td>1344211200</td>\n",
       "      <td>Charming and childlike</td>\n",
       "      <td>A charming, rhyming book that describes the ci...</td>\n",
       "    </tr>\n",
       "    <tr>\n",
       "      <th>138708</th>\n",
       "      <td>150526</td>\n",
       "      <td>0006641040</td>\n",
       "      <td>A3E9QZFE9KXH8J</td>\n",
       "      <td>R. Mitchell</td>\n",
       "      <td>11</td>\n",
       "      <td>18</td>\n",
       "      <td>negative</td>\n",
       "      <td>1129507200</td>\n",
       "      <td>awesome book poor size</td>\n",
       "      <td>This is one of the best children's books ever ...</td>\n",
       "    </tr>\n",
       "    <tr>\n",
       "      <th>138707</th>\n",
       "      <td>150525</td>\n",
       "      <td>0006641040</td>\n",
       "      <td>A2QID6VCFTY51R</td>\n",
       "      <td>Rick</td>\n",
       "      <td>1</td>\n",
       "      <td>2</td>\n",
       "      <td>positive</td>\n",
       "      <td>1025481600</td>\n",
       "      <td>In December it will be, my snowman's anniversa...</td>\n",
       "      <td>My daughter loves all the \"Really Rosie\" books...</td>\n",
       "    </tr>\n",
       "    <tr>\n",
       "      <th>138706</th>\n",
       "      <td>150524</td>\n",
       "      <td>0006641040</td>\n",
       "      <td>ACITT7DI6IDDL</td>\n",
       "      <td>shari zychinski</td>\n",
       "      <td>0</td>\n",
       "      <td>0</td>\n",
       "      <td>positive</td>\n",
       "      <td>939340800</td>\n",
       "      <td>EVERY book is educational</td>\n",
       "      <td>this witty little book makes my son laugh at l...</td>\n",
       "    </tr>\n",
       "    <tr>\n",
       "      <th>138705</th>\n",
       "      <td>150523</td>\n",
       "      <td>0006641040</td>\n",
       "      <td>A2P4F2UO0UMP8C</td>\n",
       "      <td>Elizabeth A. Curry \"Lovely Librarian\"</td>\n",
       "      <td>0</td>\n",
       "      <td>0</td>\n",
       "      <td>positive</td>\n",
       "      <td>1096675200</td>\n",
       "      <td>MMMM chicken soup....</td>\n",
       "      <td>Summary:  A young boy describes the usefulness...</td>\n",
       "    </tr>\n",
       "  </tbody>\n",
       "</table>\n",
       "</div>"
      ],
      "text/plain": [
       "            Id   ProductId          UserId  \\\n",
       "138693  150511  0006641040  A1C9K534BCI9GO   \n",
       "138708  150526  0006641040  A3E9QZFE9KXH8J   \n",
       "138707  150525  0006641040  A2QID6VCFTY51R   \n",
       "138706  150524  0006641040   ACITT7DI6IDDL   \n",
       "138705  150523  0006641040  A2P4F2UO0UMP8C   \n",
       "\n",
       "                                  ProfileName  HelpfulnessNumerator  \\\n",
       "138693                     Laura Purdie Salas                     0   \n",
       "138708                            R. Mitchell                    11   \n",
       "138707                                   Rick                     1   \n",
       "138706                        shari zychinski                     0   \n",
       "138705  Elizabeth A. Curry \"Lovely Librarian\"                     0   \n",
       "\n",
       "        HelpfulnessDenominator     Score        Time  \\\n",
       "138693                       0  positive  1344211200   \n",
       "138708                      18  negative  1129507200   \n",
       "138707                       2  positive  1025481600   \n",
       "138706                       0  positive   939340800   \n",
       "138705                       0  positive  1096675200   \n",
       "\n",
       "                                                  Summary  \\\n",
       "138693                             Charming and childlike   \n",
       "138708                             awesome book poor size   \n",
       "138707  In December it will be, my snowman's anniversa...   \n",
       "138706                          EVERY book is educational   \n",
       "138705                              MMMM chicken soup....   \n",
       "\n",
       "                                                     Text  \n",
       "138693  A charming, rhyming book that describes the ci...  \n",
       "138708  This is one of the best children's books ever ...  \n",
       "138707  My daughter loves all the \"Really Rosie\" books...  \n",
       "138706  this witty little book makes my son laugh at l...  \n",
       "138705  Summary:  A young boy describes the usefulness...  "
      ]
     },
     "execution_count": 5,
     "metadata": {},
     "output_type": "execute_result"
    }
   ],
   "source": [
    "sorted_data = data.sort_values('ProductId', inplace = False, axis =0, kind = 'quicksort', ascending = True, na_position = 'last')\n",
    "sorted_data.head()"
   ]
  },
  {
   "cell_type": "code",
   "execution_count": 6,
   "metadata": {
    "scrolled": true
   },
   "outputs": [
    {
     "data": {
      "text/plain": [
       "array([ \"A charming, rhyming book that describes the circumstances under which you eat (or don't) chicken soup with rice, month-by-month. This sounds like the kind of thing kids would make up while they're out of recess and sing over and over until they drive the teachers crazy. It's cute and catchy and sounds really childlike but is skillfully written.\",\n",
       "       \"This is one of the best children's books ever written but it is a mini version of the book and was not portrayed as one.  It is over priced for the product.  I sent an email regarding my bewilderment  to Amazon and got no response.\",\n",
       "       'My daughter loves all the \"Really Rosie\" books. She was introduced to the Really Rosie CD performed by Carole King (also available on Amazon!) on her 1st Birthday and now, a year later, she knows all the songs. As far as the books go, we own: One Was Johnny, Alligators All Around, & Chicken Soup w/Rice. These books are well written with clever art work by Maurice Sendak. Plus, they are really cheap!! Highly recommended :)',\n",
       "       ...,\n",
       "       'The basket was the perfect sympathy gift when trying to express how much you care and really provide resources to assist in the healing process.',\n",
       "       'Purchased this product at a local store in NY and my kids and i love it. Its a quick easy meal. You can put in a toaster oven on toast for 6 min. and its ready to eat.<br />strongly recommend',\n",
       "       \"I purchased this to send to my son who's away at college. It was delivered right to his dorm room with very fast shipping. He loved it so much he called me to thank me, and sadly, he hardly ever calls me anymore! If you want your kids to call home, and have some good snack to get them through midterms then send them this.\"], dtype=object)"
      ]
     },
     "execution_count": 6,
     "metadata": {},
     "output_type": "execute_result"
    }
   ],
   "source": [
    "sorted_data['Text'].values"
   ]
  },
  {
   "cell_type": "code",
   "execution_count": 7,
   "metadata": {},
   "outputs": [
    {
     "data": {
      "text/plain": [
       "(328770, 10)"
      ]
     },
     "execution_count": 7,
     "metadata": {},
     "output_type": "execute_result"
    }
   ],
   "source": [
    "filtered_data = sorted_data.drop_duplicates(subset = {'UserId','ProfileName','Time'} ,keep = 'first', inplace = False)\n",
    "filtered_data.shape"
   ]
  },
  {
   "cell_type": "code",
   "execution_count": 8,
   "metadata": {
    "scrolled": true
   },
   "outputs": [
    {
     "data": {
      "text/plain": [
       "positive    275650\n",
       "negative     53120\n",
       "Name: Score, dtype: int64"
      ]
     },
     "execution_count": 8,
     "metadata": {},
     "output_type": "execute_result"
    }
   ],
   "source": [
    "filtered_data['Score'].value_counts()"
   ]
  },
  {
   "cell_type": "code",
   "execution_count": 9,
   "metadata": {
    "collapsed": true
   },
   "outputs": [],
   "source": [
    "#text processing\n",
    "final = filtered_data.copy()\n",
    "#final = final.head(5000)"
   ]
  },
  {
   "cell_type": "code",
   "execution_count": 10,
   "metadata": {},
   "outputs": [
    {
     "name": "stdout",
     "output_type": "stream",
     "text": [
      "[nltk_data] Error loading stopwords: <urlopen error [Errno 11001]\n",
      "[nltk_data]     getaddrinfo failed>\n"
     ]
    },
    {
     "data": {
      "text/plain": [
       "False"
      ]
     },
     "execution_count": 10,
     "metadata": {},
     "output_type": "execute_result"
    }
   ],
   "source": [
    "nltk.download('stopwords')"
   ]
  },
  {
   "cell_type": "code",
   "execution_count": 11,
   "metadata": {},
   "outputs": [
    {
     "name": "stdout",
     "output_type": "stream",
     "text": [
      "{'my', 'i', 'so', 'most', 'me', 'same', 'himself', 'out', 'will', 'further', 'your', 'here', 'was', 'these', 'm', 'ma', \"hadn't\", 'weren', \"won't\", 'y', 'am', 'didn', 'isn', 'as', 'against', 'an', 'some', 'by', 's', 'if', 'more', \"mustn't\", 'myself', 'up', 'had', 'that', 'and', 'which', \"couldn't\", 'those', 'they', 'during', 'have', 'now', 'mightn', \"mightn't\", 'to', 'both', 'when', 'because', 'there', 'being', 'but', 'his', \"that'll\", 'it', 'couldn', 'above', \"don't\", 'while', 'this', 'can', 'their', \"didn't\", 'shouldn', 'then', 'of', 'than', 'you', \"you'd\", 'her', 'them', 'nor', 'hasn', 'themselves', \"she's\", 'mustn', 'down', 'why', 'o', 'hers', 'how', 'own', 'under', \"aren't\", 'ours', 'once', 'in', 'don', 're', 'ain', 'who', \"weren't\", 'been', 'hadn', \"wasn't\", 'with', 'all', 'wasn', 'at', \"shan't\", 'he', 'are', \"doesn't\", \"hasn't\", 'very', 'be', 'whom', 'aren', 'below', \"you've\", 'our', 'into', 'does', 'or', 'doesn', \"it's\", \"haven't\", 'needn', 'did', 'after', 'only', 'such', 'too', 'doing', 'we', 've', \"you'll\", 'over', 'itself', 'yourself', 'a', 'again', 'she', 'were', 'any', 'yours', 'do', 'just', \"isn't\", 'few', \"shouldn't\", 'haven', 'about', 'other', 'for', 'between', 'each', 'd', 'll', \"should've\", 'should', 'on', \"you're\", 'no', 'before', 'won', 'has', 'wouldn', 'where', 'herself', 'its', 'having', 'until', 'theirs', 'is', 'not', 'off', 'yourselves', 'him', 'shan', 'ourselves', \"needn't\", 'through', 'from', \"wouldn't\", 'what', 'the', 't'}\n"
     ]
    }
   ],
   "source": [
    "stop = set(stopwords.words(\"english\"))\n",
    "print(stop)"
   ]
  },
  {
   "cell_type": "code",
   "execution_count": 12,
   "metadata": {},
   "outputs": [
    {
     "data": {
      "text/plain": [
       "'burn'"
      ]
     },
     "execution_count": 12,
     "metadata": {},
     "output_type": "execute_result"
    }
   ],
   "source": [
    "st = PorterStemmer()\n",
    "st.stem('burned')"
   ]
  },
  {
   "cell_type": "markdown",
   "metadata": {},
   "source": [
    "##  Text Preprocessing: Stemming, stop-word removal and Lemmatization.\n",
    "\n",
    "Now that we have finished deduplication our data requires some preprocessing before we go on further with analysis and making the prediction model.\n",
    "\n",
    "Hence in the Preprocessing phase we do the following in the order below:-\n",
    "\n",
    "1. Begin by removing the html tags\n",
    "2. Remove any punctuations or limited set of special characters like , or . or # etc.\n",
    "3. Check if the word is made up of english letters and is not alpha-numeric\n",
    "4. Check to see if the length of the word is greater than 2 (as it was researched that there is no adjective in 2-letters)\n",
    "5. Convert the word to lowercase\n",
    "6. Remove Stopwords\n",
    "7. Finally Snowball Stemming the word (it was obsereved to be better than Porter Stemming)<br>\n",
    "\n",
    "After which we collect the words used to describe positive and negative reviews"
   ]
  },
  {
   "cell_type": "code",
   "execution_count": 13,
   "metadata": {
    "collapsed": true
   },
   "outputs": [],
   "source": [
    "def cleanhtml(sent):\n",
    "    cleanr = re.compile('<.*?>')\n",
    "    cleaned = re.sub(cleanr,' ',sent)\n",
    "    return cleaned\n",
    "def cleanpunc(sent):\n",
    "    clean = re.sub(r'[?|!|$|#|\\'|\"|:]',r'',sent)\n",
    "    clean = re.sub(r'[,|(|)|.|\\|/]',r' ',clean)\n",
    "    return clean\n",
    "                   "
   ]
  },
  {
   "cell_type": "code",
   "execution_count": 14,
   "metadata": {
    "collapsed": true
   },
   "outputs": [],
   "source": [
    "i=0\n",
    "all_positive_reviews =[]\n",
    "all_negative_reviews = []\n",
    "final_string = []\n",
    "stem_data = \" \"\n",
    "for p in final['Text'].values:\n",
    "    filtered_sens = []#filtered word\n",
    "    p = cleanhtml(p)\n",
    "    for w in p.split():\n",
    "       # print(w)\n",
    "        punc = cleanpunc(w)\n",
    "        for s in punc.split():\n",
    "            #print(w)\n",
    "            if (s.isalpha()) & (len(s)>2):\n",
    "                if s.lower() not in stop:\n",
    "                    stem_data = (st.stem(s.lower())).encode('utf8')\n",
    "                    #can we use lemmatizer and stemming altogether??\n",
    "                    filtered_sens.append(stem_data)\n",
    "                    if (final['Score'].values)[i] == 'positive':\n",
    "                        all_positive_reviews.append(stem_data)\n",
    "                    if (final['Score'].values)[i] == 'negative':\n",
    "                        all_negative_reviews.append(stem_data)\n",
    "                else:\n",
    "                    continue\n",
    "            else:\n",
    "                continue\n",
    "    #print(filtered_sens)\n",
    "    str1 = b\" \".join(filtered_sens)\n",
    "    #print(str1)\n",
    "    final_string.append(str1)\n",
    "    i+=1"
   ]
  },
  {
   "cell_type": "code",
   "execution_count": 15,
   "metadata": {},
   "outputs": [
    {
     "data": {
      "text/html": [
       "<div>\n",
       "<style>\n",
       "    .dataframe thead tr:only-child th {\n",
       "        text-align: right;\n",
       "    }\n",
       "\n",
       "    .dataframe thead th {\n",
       "        text-align: left;\n",
       "    }\n",
       "\n",
       "    .dataframe tbody tr th {\n",
       "        vertical-align: top;\n",
       "    }\n",
       "</style>\n",
       "<table border=\"1\" class=\"dataframe\">\n",
       "  <thead>\n",
       "    <tr style=\"text-align: right;\">\n",
       "      <th></th>\n",
       "      <th>Id</th>\n",
       "      <th>ProductId</th>\n",
       "      <th>UserId</th>\n",
       "      <th>ProfileName</th>\n",
       "      <th>HelpfulnessNumerator</th>\n",
       "      <th>HelpfulnessDenominator</th>\n",
       "      <th>Score</th>\n",
       "      <th>Time</th>\n",
       "      <th>Summary</th>\n",
       "      <th>Text</th>\n",
       "      <th>CleanedText</th>\n",
       "    </tr>\n",
       "  </thead>\n",
       "  <tbody>\n",
       "    <tr>\n",
       "      <th>138693</th>\n",
       "      <td>150511</td>\n",
       "      <td>0006641040</td>\n",
       "      <td>A1C9K534BCI9GO</td>\n",
       "      <td>Laura Purdie Salas</td>\n",
       "      <td>0</td>\n",
       "      <td>0</td>\n",
       "      <td>positive</td>\n",
       "      <td>1344211200</td>\n",
       "      <td>Charming and childlike</td>\n",
       "      <td>A charming, rhyming book that describes the ci...</td>\n",
       "      <td>b'charm rhyme book describ circumst eat dont c...</td>\n",
       "    </tr>\n",
       "    <tr>\n",
       "      <th>138708</th>\n",
       "      <td>150526</td>\n",
       "      <td>0006641040</td>\n",
       "      <td>A3E9QZFE9KXH8J</td>\n",
       "      <td>R. Mitchell</td>\n",
       "      <td>11</td>\n",
       "      <td>18</td>\n",
       "      <td>negative</td>\n",
       "      <td>1129507200</td>\n",
       "      <td>awesome book poor size</td>\n",
       "      <td>This is one of the best children's books ever ...</td>\n",
       "      <td>b'one best children book ever written mini ver...</td>\n",
       "    </tr>\n",
       "    <tr>\n",
       "      <th>138707</th>\n",
       "      <td>150525</td>\n",
       "      <td>0006641040</td>\n",
       "      <td>A2QID6VCFTY51R</td>\n",
       "      <td>Rick</td>\n",
       "      <td>1</td>\n",
       "      <td>2</td>\n",
       "      <td>positive</td>\n",
       "      <td>1025481600</td>\n",
       "      <td>In December it will be, my snowman's anniversa...</td>\n",
       "      <td>My daughter loves all the \"Really Rosie\" books...</td>\n",
       "      <td>b'daughter love realli rosi book introduc real...</td>\n",
       "    </tr>\n",
       "    <tr>\n",
       "      <th>138706</th>\n",
       "      <td>150524</td>\n",
       "      <td>0006641040</td>\n",
       "      <td>ACITT7DI6IDDL</td>\n",
       "      <td>shari zychinski</td>\n",
       "      <td>0</td>\n",
       "      <td>0</td>\n",
       "      <td>positive</td>\n",
       "      <td>939340800</td>\n",
       "      <td>EVERY book is educational</td>\n",
       "      <td>this witty little book makes my son laugh at l...</td>\n",
       "      <td>b'witti littl book make son laugh loud recit c...</td>\n",
       "    </tr>\n",
       "    <tr>\n",
       "      <th>138705</th>\n",
       "      <td>150523</td>\n",
       "      <td>0006641040</td>\n",
       "      <td>A2P4F2UO0UMP8C</td>\n",
       "      <td>Elizabeth A. Curry \"Lovely Librarian\"</td>\n",
       "      <td>0</td>\n",
       "      <td>0</td>\n",
       "      <td>positive</td>\n",
       "      <td>1096675200</td>\n",
       "      <td>MMMM chicken soup....</td>\n",
       "      <td>Summary:  A young boy describes the usefulness...</td>\n",
       "      <td>b'summari young boy describ use chicken soup r...</td>\n",
       "    </tr>\n",
       "  </tbody>\n",
       "</table>\n",
       "</div>"
      ],
      "text/plain": [
       "            Id   ProductId          UserId  \\\n",
       "138693  150511  0006641040  A1C9K534BCI9GO   \n",
       "138708  150526  0006641040  A3E9QZFE9KXH8J   \n",
       "138707  150525  0006641040  A2QID6VCFTY51R   \n",
       "138706  150524  0006641040   ACITT7DI6IDDL   \n",
       "138705  150523  0006641040  A2P4F2UO0UMP8C   \n",
       "\n",
       "                                  ProfileName  HelpfulnessNumerator  \\\n",
       "138693                     Laura Purdie Salas                     0   \n",
       "138708                            R. Mitchell                    11   \n",
       "138707                                   Rick                     1   \n",
       "138706                        shari zychinski                     0   \n",
       "138705  Elizabeth A. Curry \"Lovely Librarian\"                     0   \n",
       "\n",
       "        HelpfulnessDenominator     Score        Time  \\\n",
       "138693                       0  positive  1344211200   \n",
       "138708                      18  negative  1129507200   \n",
       "138707                       2  positive  1025481600   \n",
       "138706                       0  positive   939340800   \n",
       "138705                       0  positive  1096675200   \n",
       "\n",
       "                                                  Summary  \\\n",
       "138693                             Charming and childlike   \n",
       "138708                             awesome book poor size   \n",
       "138707  In December it will be, my snowman's anniversa...   \n",
       "138706                          EVERY book is educational   \n",
       "138705                              MMMM chicken soup....   \n",
       "\n",
       "                                                     Text  \\\n",
       "138693  A charming, rhyming book that describes the ci...   \n",
       "138708  This is one of the best children's books ever ...   \n",
       "138707  My daughter loves all the \"Really Rosie\" books...   \n",
       "138706  this witty little book makes my son laugh at l...   \n",
       "138705  Summary:  A young boy describes the usefulness...   \n",
       "\n",
       "                                              CleanedText  \n",
       "138693  b'charm rhyme book describ circumst eat dont c...  \n",
       "138708  b'one best children book ever written mini ver...  \n",
       "138707  b'daughter love realli rosi book introduc real...  \n",
       "138706  b'witti littl book make son laugh loud recit c...  \n",
       "138705  b'summari young boy describ use chicken soup r...  "
      ]
     },
     "execution_count": 15,
     "metadata": {},
     "output_type": "execute_result"
    }
   ],
   "source": [
    "final['CleanedText'] = final_string\n",
    "final.head()"
   ]
  },
  {
   "cell_type": "code",
   "execution_count": 16,
   "metadata": {
    "collapsed": true
   },
   "outputs": [],
   "source": [
    "from sklearn.feature_extraction.text import TfidfTransformer\n",
    "from sklearn.feature_extraction.text import TfidfVectorizer\n",
    "from sklearn.feature_extraction.text import CountVectorizer\n"
   ]
  },
  {
   "cell_type": "code",
   "execution_count": 17,
   "metadata": {
    "collapsed": true
   },
   "outputs": [],
   "source": [
    "final = final.sort_values('Time',axis= 0,inplace = False , na_position = 'last',ascending = True)\n",
    "X = final['CleanedText'].values\n",
    "X = list(X[:10001])\n",
    "y = final['Score'].values\n",
    "y =list(y[:10001])\n",
    "del X[2543]\n",
    "del y[2543]"
   ]
  },
  {
   "cell_type": "code",
   "execution_count": 18,
   "metadata": {
    "collapsed": true
   },
   "outputs": [],
   "source": [
    "# from sklearn.model_selection import TimeSeriesSplit"
   ]
  },
  {
   "cell_type": "code",
   "execution_count": 19,
   "metadata": {
    "collapsed": true
   },
   "outputs": [],
   "source": [
    "# tscv = TimeSeriesSplit(n_splits = int((100000 - 30000)/30000))\n",
    "# for train_index , test_index in tscv.split(X):\n",
    "#     X_train,X_test = X[train_index],X[test_index]\n",
    "#     y_train,y_test = y[train_index],y[test_index]"
   ]
  },
  {
   "cell_type": "code",
   "execution_count": 20,
   "metadata": {
    "collapsed": true
   },
   "outputs": [],
   "source": [
    "X_train ,X_test,y_train,y_test = train_test_split(X,y,test_size = 0.2,stratify = y)"
   ]
  },
  {
   "cell_type": "code",
   "execution_count": 21,
   "metadata": {
    "collapsed": true
   },
   "outputs": [],
   "source": [
    "# X_test = X_test[:3000]\n",
    "# y_test = y_test[:3000]"
   ]
  },
  {
   "cell_type": "code",
   "execution_count": 22,
   "metadata": {},
   "outputs": [
    {
     "data": {
      "text/plain": [
       "8000"
      ]
     },
     "execution_count": 22,
     "metadata": {},
     "output_type": "execute_result"
    }
   ],
   "source": [
    "len(X_train)"
   ]
  },
  {
   "cell_type": "code",
   "execution_count": 23,
   "metadata": {},
   "outputs": [
    {
     "data": {
      "text/plain": [
       "2000"
      ]
     },
     "execution_count": 23,
     "metadata": {},
     "output_type": "execute_result"
    }
   ],
   "source": [
    "len(X_test)"
   ]
  },
  {
   "cell_type": "markdown",
   "metadata": {},
   "source": [
    "# KNN on BOW using brute and kd_tree algorithm"
   ]
  },
  {
   "cell_type": "code",
   "execution_count": 24,
   "metadata": {
    "collapsed": true,
    "scrolled": true
   },
   "outputs": [],
   "source": [
    "count_vect = CountVectorizer() #in scikit-learn\n",
    "bow_train = count_vect.fit_transform(X_train)\n",
    "bow_test = count_vect.transform(X_test)\n",
    "#count_vect.get_feature_names()"
   ]
  },
  {
   "cell_type": "code",
   "execution_count": 25,
   "metadata": {
    "collapsed": true
   },
   "outputs": [],
   "source": [
    "# from scipy.sparse import csr_matrix\n",
    "#bow_train = bow_train.todense()\n",
    "#print(type(bow_train))"
   ]
  },
  {
   "cell_type": "code",
   "execution_count": 26,
   "metadata": {
    "collapsed": true
   },
   "outputs": [],
   "source": [
    "neighbors = list(np.arange(3,50,4))\n"
   ]
  },
  {
   "cell_type": "code",
   "execution_count": 27,
   "metadata": {
    "scrolled": true
   },
   "outputs": [
    {
     "name": "stdout",
     "output_type": "stream",
     "text": [
      "The accuracy for optimal k = 7 using brute is 88.85\n"
     ]
    }
   ],
   "source": [
    "#X_tr,X_test,y_tr,y_test = cross_validation.train_test_split(bow_X,bow_y,test_size=0.3,random_state= 42)\n",
    "import warnings\n",
    "warnings.filterwarnings(\"ignore\")\n",
    "\n",
    "cv_scores = []\n",
    "for n in neighbors:\n",
    "    knn = KNeighborsClassifier(n_neighbors = n,algorithm = 'brute')\n",
    "    #knn = KNeighborsClassifier(n_neighbors = n,algorithm = 'kd_tree',leaf_size = 30)\n",
    "    cross_val = cross_val_score(knn,bow_train,y_train,cv = 5 , scoring = 'accuracy')\n",
    "    cv_scores.append(cross_val.mean())\n",
    "    \n",
    "MSE = [1-x for x in cv_scores]\n",
    "optimal_n = neighbors[ MSE.index(min(MSE)) ]\n",
    "knn_optimal = KNeighborsClassifier(n_neighbors = optimal_n,algorithm = 'brute')\n",
    "knn_optimal.fit(bow_train,y_train)\n",
    "pred = knn_optimal.predict(bow_test)\n",
    "acc = accuracy_score(y_test,pred)*100\n",
    "\n",
    "print(\"The accuracy for optimal k = {0} using brute is {1}\".format(optimal_n,acc))\n",
    "#print(\"The accuracy for optimal k = {0} using kd_tree is {1}\".format(optimal_n,acc))"
   ]
  },
  {
   "cell_type": "code",
   "execution_count": 28,
   "metadata": {},
   "outputs": [
    {
     "name": "stdout",
     "output_type": "stream",
     "text": [
      "             precision    recall  f1-score   support\n",
      "\n",
      "   negative       0.70      0.03      0.06       227\n",
      "   positive       0.89      1.00      0.94      1773\n",
      "\n",
      "avg / total       0.87      0.89      0.84      2000\n",
      "\n"
     ]
    }
   ],
   "source": [
    "from sklearn.metrics import classification_report\n",
    "print(classification_report(y_test,pred))"
   ]
  },
  {
   "cell_type": "code",
   "execution_count": 29,
   "metadata": {},
   "outputs": [
    {
     "name": "stdout",
     "output_type": "stream",
     "text": [
      "RECALL SCORE\n",
      "0.998307952623\n",
      "0.0308370044053\n",
      "\n",
      "\n",
      "PRECISION SCORE\n",
      "0.889447236181\n",
      "0.7\n"
     ]
    }
   ],
   "source": [
    "from sklearn.metrics import recall_score , precision_score , roc_auc_score ,roc_curve\n",
    "print('RECALL SCORE')\n",
    "print(recall_score(y_test,pred,pos_label = 'positive'))\n",
    "print(recall_score(y_test,pred,pos_label= 'negative') )\n",
    "print('\\n')\n",
    "print('PRECISION SCORE')\n",
    "print(precision_score(y_test,pred,pos_label = 'positive'))\n",
    "print(precision_score(y_test,pred,pos_label = 'negative'))"
   ]
  },
  {
   "cell_type": "code",
   "execution_count": 30,
   "metadata": {
    "scrolled": true
   },
   "outputs": [
    {
     "data": {
      "image/png": "[encoded data removed]",
      "text/plain": [
       "<matplotlib.figure.Figure at 0x20078d75390>"
      ]
     },
     "metadata": {},
     "output_type": "display_data"
    }
   ],
   "source": [
    "change = lambda x : 1 if x == 'positive' else 0\n",
    "y_true = np.array([change(x) for x in y_test])\n",
    "y_pred = knn_optimal.predict_proba(bow_test)[:,1]\n",
    "#print(y_pred[:,1])\n",
    "\n",
    "fpr,tpr,thresholds = roc_curve(y_true, y_pred)\n",
    "plt.plot(fpr,tpr,'r--')\n",
    "plt.ylabel('True Positive Rate')\n",
    "plt.xlabel('False Positive Rate')\n",
    "plt.legend()\n",
    "plt.show()"
   ]
  },
  {
   "cell_type": "code",
   "execution_count": 31,
   "metadata": {},
   "outputs": [
    {
     "name": "stdout",
     "output_type": "stream",
     "text": [
      "0.630396972701\n"
     ]
    }
   ],
   "source": [
    "print(roc_auc_score(y_true,y_pred))"
   ]
  },
  {
   "cell_type": "code",
   "execution_count": 32,
   "metadata": {},
   "outputs": [
    {
     "name": "stdout",
     "output_type": "stream",
     "text": [
      "[[   7  220]\n",
      " [   3 1770]]\n"
     ]
    },
    {
     "data": {
      "image/png": "[encoded data removed]",
      "text/plain": [
       "<matplotlib.figure.Figure at 0x20029142898>"
      ]
     },
     "metadata": {},
     "output_type": "display_data"
    }
   ],
   "source": [
    "from sklearn.metrics import confusion_matrix\n",
    "import seaborn as sns\n",
    "confusion = confusion_matrix(y_test , pred)\n",
    "print(confusion)\n",
    "df_cm = pd.DataFrame(confusion , index = ['Negative','Positive'])\n",
    "sns.heatmap(df_cm ,annot = True)\n",
    "plt.xticks([0.5,1.5],['Negative','Positive'],rotation = 45)\n",
    "plt.xlabel(\"Predicted\")\n",
    "plt.ylabel(\"Actual\")\n",
    "plt.show()"
   ]
  },
  {
   "cell_type": "markdown",
   "metadata": {},
   "source": [
    "# conclusion "
   ]
  },
  {
   "cell_type": "markdown",
   "metadata": {},
   "source": [
    "<h3>Brute Algo</h3>\n",
    "1. Optimal K = 7.\n",
    "2. Accuracy = 88.85\n",
    "3. AUC = 0.6303(approx)\n",
    "4. TN = 7\n",
    "5. TP = 1770"
   ]
  },
  {
   "cell_type": "code",
   "execution_count": 33,
   "metadata": {},
   "outputs": [
    {
     "name": "stdout",
     "output_type": "stream",
     "text": [
      "The accuracy for optimal k = 23 using kd_tree is 88.75\n"
     ]
    }
   ],
   "source": [
    "import warnings\n",
    "warnings.filterwarnings(\"ignore\")\n",
    "from sklearn.decomposition import TruncatedSVD\n",
    "svd = TruncatedSVD(n_components = 200)\n",
    "bow_tr = svd.fit_transform(bow_train)\n",
    "bow_te = svd.transform(bow_test)\n",
    "cv_scores = []\n",
    "for n in neighbors:\n",
    "    kn = KNeighborsClassifier(n_neighbors = n,algorithm = 'kd_tree',leaf_size = 30)\n",
    "    cross_val = cross_val_score(kn,bow_tr,y_train,cv = 2 , scoring = 'accuracy')\n",
    "    cv_scores.append(cross_val.mean())\n",
    "    \n",
    "MSE = [1-x for x in cv_scores]\n",
    "optima_n = neighbors[ MSE.index(min(MSE)) ]\n",
    "knn_optima = KNeighborsClassifier(n_neighbors = optima_n, algorithm = 'kd_tree',leaf_size = 30)\n",
    "knn_optima.fit(bow_tr,y_train)\n",
    "pred = knn_optima.predict(bow_te)\n",
    "ac = accuracy_score(y_test,pred)*100\n",
    "print(\"The accuracy for optimal k = {0} using kd_tree is {1}\".format(optima_n,ac))"
   ]
  },
  {
   "cell_type": "code",
   "execution_count": 34,
   "metadata": {
    "scrolled": false
   },
   "outputs": [
    {
     "name": "stdout",
     "output_type": "stream",
     "text": [
      "             precision    recall  f1-score   support\n",
      "\n",
      "   negative       1.00      0.01      0.02       227\n",
      "   positive       0.89      1.00      0.94      1773\n",
      "\n",
      "avg / total       0.90      0.89      0.84      2000\n",
      "\n"
     ]
    }
   ],
   "source": [
    "from sklearn.metrics import classification_report\n",
    "print(classification_report(y_test,pred))"
   ]
  },
  {
   "cell_type": "code",
   "execution_count": 35,
   "metadata": {
    "scrolled": true
   },
   "outputs": [
    {
     "name": "stdout",
     "output_type": "stream",
     "text": [
      "RECALL SCORE\n",
      "1.0\n",
      "0.00881057268722\n",
      "\n",
      "\n",
      "PRECISION SCORE\n",
      "0.887387387387\n",
      "1.0\n"
     ]
    }
   ],
   "source": [
    "from sklearn.metrics import recall_score , precision_score , roc_auc_score ,roc_curve\n",
    "print('RECALL SCORE')\n",
    "print(recall_score(y_test,pred,pos_label = 'positive'))\n",
    "print(recall_score(y_test,pred,pos_label= 'negative') )\n",
    "print('\\n')\n",
    "print('PRECISION SCORE')\n",
    "print(precision_score(y_test,pred,pos_label = 'positive'))\n",
    "print(precision_score(y_test,pred,pos_label = 'negative'))"
   ]
  },
  {
   "cell_type": "code",
   "execution_count": 36,
   "metadata": {
    "scrolled": false
   },
   "outputs": [
    {
     "data": {
      "image/png": "[encoded data removed]",
      "text/plain": [
       "<matplotlib.figure.Figure at 0x2007b8b6278>"
      ]
     },
     "metadata": {},
     "output_type": "display_data"
    }
   ],
   "source": [
    "change = lambda x : 1 if x == 'positive' else 0\n",
    "y_true = np.array([change(x) for x in y_test])\n",
    "y_pred = knn_optima.predict_proba(bow_te)[:,1]\n",
    "#print(y_pred[:,1])\n",
    "\n",
    "fpr,tpr,thresholds = roc_curve(y_true, y_pred)\n",
    "plt.plot(fpr,tpr,'r--')\n",
    "plt.ylabel('True Positive Rate')\n",
    "plt.xlabel('False Positive Rate')\n",
    "plt.legend()\n",
    "plt.show()"
   ]
  },
  {
   "cell_type": "code",
   "execution_count": 37,
   "metadata": {
    "scrolled": true
   },
   "outputs": [
    {
     "name": "stdout",
     "output_type": "stream",
     "text": [
      "0.723115454281\n"
     ]
    }
   ],
   "source": [
    "print(roc_auc_score(y_true,y_pred))"
   ]
  },
  {
   "cell_type": "code",
   "execution_count": 38,
   "metadata": {
    "scrolled": true
   },
   "outputs": [
    {
     "name": "stdout",
     "output_type": "stream",
     "text": [
      "[[   2  225]\n",
      " [   0 1773]]\n"
     ]
    },
    {
     "data": {
      "image/png": "[encoded data removed]",
      "text/plain": [
       "<matplotlib.figure.Figure at 0x2002cd4a2e8>"
      ]
     },
     "metadata": {},
     "output_type": "display_data"
    }
   ],
   "source": [
    "from sklearn.metrics import confusion_matrix\n",
    "import seaborn as sns\n",
    "confusion = confusion_matrix(y_test , pred)\n",
    "print(confusion)\n",
    "df_cm = pd.DataFrame(confusion , index = ['Negative','Positive'])\n",
    "sns.heatmap(df_cm ,annot = True)\n",
    "plt.xticks([0.5,1.5],['Negative','Positive'],rotation = 45)\n",
    "plt.xlabel(\"Predicted\")\n",
    "plt.ylabel(\"Actual\")\n",
    "plt.show()"
   ]
  },
  {
   "cell_type": "markdown",
   "metadata": {},
   "source": [
    "# conclusion "
   ]
  },
  {
   "cell_type": "markdown",
   "metadata": {},
   "source": [
    "<h3>Kd-tree Algo</h3>\n",
    "1. Optimal K = 23\n",
    "2. Accuracy = 88.75\n",
    "3. AUC = 0.723(approx)\n",
    "4. TN = 2\n",
    "5. TP = 1773"
   ]
  },
  {
   "cell_type": "markdown",
   "metadata": {},
   "source": [
    "# KNN on TF-IDF using brute and kd_tree algorithms"
   ]
  },
  {
   "cell_type": "code",
   "execution_count": 39,
   "metadata": {
    "collapsed": true
   },
   "outputs": [],
   "source": [
    "tfidf_vect = TfidfVectorizer(ngram_range = (1,4))\n",
    "tfidf_train = tfidf_vect.fit_transform(X_train)\n",
    "tfidf_test = tfidf_vect.transform(X_test)"
   ]
  },
  {
   "cell_type": "code",
   "execution_count": 40,
   "metadata": {
    "collapsed": true
   },
   "outputs": [],
   "source": [
    "from sklearn.preprocessing import StandardScaler\n",
    "sc = StandardScaler(with_mean = False)\n",
    "X_tr= sc.fit_transform(tfidf_train)\n",
    "X_te = sc.transform(tfidf_test)"
   ]
  },
  {
   "cell_type": "code",
   "execution_count": 41,
   "metadata": {},
   "outputs": [
    {
     "name": "stdout",
     "output_type": "stream",
     "text": [
      "The accuracy for k = 3 using brute is 88.64999999999999\n"
     ]
    }
   ],
   "source": [
    "#X_train, X_tes,y_train,y_tes = cross_validation.train_test_split(tfidf_X,tfidf_y,test_size = 0.3 ,random_state = 42)\n",
    "cv_scores = []\n",
    "for i in neighbors:\n",
    "    knn = KNeighborsClassifier(n_neighbors = i, algorithm = 'brute')\n",
    "    cross_val = cross_val_score(knn, X_tr,y_train,cv = 5 , scoring = 'accuracy')\n",
    "    cv_scores.append(cross_val.mean())\n",
    "MSE_tfidf = [1-x for x in cv_scores]\n",
    "optimal_i = neighbors[MSE_tfidf.index(min(MSE_tfidf))]\n",
    "knn_tfidf = KNeighborsClassifier(n_neighbors = optimal_i,algorithm = 'brute')\n",
    "knn_tfidf.fit(X_tr, y_train)\n",
    "pred = knn_tfidf.predict(X_te)\n",
    "acc_tfidf = accuracy_score(y_test, pred)*100\n",
    "print(\"The accuracy for k = {0} using brute is {1}\".format(optimal_i,acc_tfidf))"
   ]
  },
  {
   "cell_type": "code",
   "execution_count": 42,
   "metadata": {
    "scrolled": true
   },
   "outputs": [
    {
     "name": "stdout",
     "output_type": "stream",
     "text": [
      "             precision    recall  f1-score   support\n",
      "\n",
      "   negative       0.00      0.00      0.00       227\n",
      "   positive       0.89      1.00      0.94      1773\n",
      "\n",
      "avg / total       0.79      0.89      0.83      2000\n",
      "\n"
     ]
    }
   ],
   "source": [
    "from sklearn.metrics import classification_report\n",
    "print(classification_report(y_test,pred))"
   ]
  },
  {
   "cell_type": "code",
   "execution_count": 43,
   "metadata": {
    "scrolled": true
   },
   "outputs": [
    {
     "name": "stdout",
     "output_type": "stream",
     "text": [
      "RECALL SCORE\n",
      "1.0\n",
      "0.0\n",
      "\n",
      "\n",
      "PRECISION SCORE\n",
      "0.8865\n",
      "0.0\n"
     ]
    }
   ],
   "source": [
    "from sklearn.metrics import recall_score , precision_score , roc_auc_score ,roc_curve\n",
    "print('RECALL SCORE')\n",
    "print(recall_score(y_test,pred,pos_label = 'positive'))\n",
    "print(recall_score(y_test,pred,pos_label= 'negative') )\n",
    "print('\\n')\n",
    "print('PRECISION SCORE')\n",
    "print(precision_score(y_test,pred,pos_label = 'positive'))\n",
    "print(precision_score(y_test,pred,pos_label = 'negative'))"
   ]
  },
  {
   "cell_type": "code",
   "execution_count": 44,
   "metadata": {
    "scrolled": false
   },
   "outputs": [
    {
     "data": {
      "image/png": "[encoded data removed]",
      "text/plain": [
       "<matplotlib.figure.Figure at 0x2007b8b6240>"
      ]
     },
     "metadata": {},
     "output_type": "display_data"
    }
   ],
   "source": [
    "change = lambda x : 1 if x == 'positive' else 0\n",
    "y_true = np.array([change(x) for x in y_test])\n",
    "y_pred = knn_tfidf.predict_proba(X_te)[:,1]\n",
    "#print(y_pred[:,1])\n",
    "\n",
    "fpr,tpr,thresholds = roc_curve(y_true, y_pred)\n",
    "plt.plot(fpr,tpr,'r--')\n",
    "plt.ylabel('True Positive Rate')\n",
    "plt.xlabel('False Positive Rate')\n",
    "plt.legend()\n",
    "plt.show()"
   ]
  },
  {
   "cell_type": "code",
   "execution_count": 45,
   "metadata": {
    "scrolled": true
   },
   "outputs": [
    {
     "name": "stdout",
     "output_type": "stream",
     "text": [
      "0.500282007896\n"
     ]
    }
   ],
   "source": [
    "print(roc_auc_score(y_true,y_pred))"
   ]
  },
  {
   "cell_type": "code",
   "execution_count": 46,
   "metadata": {
    "scrolled": true
   },
   "outputs": [
    {
     "name": "stdout",
     "output_type": "stream",
     "text": [
      "[[   0  227]\n",
      " [   0 1773]]\n"
     ]
    },
    {
     "data": {
      "image/png": "[encoded data removed]",
      "text/plain": [
       "<matplotlib.figure.Figure at 0x2003bf586a0>"
      ]
     },
     "metadata": {},
     "output_type": "display_data"
    }
   ],
   "source": [
    "from sklearn.metrics import confusion_matrix\n",
    "import seaborn as sns\n",
    "confusion = confusion_matrix(y_test , pred)\n",
    "print(confusion)\n",
    "df_cm = pd.DataFrame(confusion , index = ['Negative','Positive'])\n",
    "sns.heatmap(df_cm ,annot = True)\n",
    "plt.xticks([0.5,1.5],['Negative','Positive'],rotation = 45)\n",
    "plt.xlabel(\"Predicted\")\n",
    "plt.ylabel(\"Actual\")\n",
    "plt.show()"
   ]
  },
  {
   "cell_type": "markdown",
   "metadata": {},
   "source": [
    "# conclusion\n",
    "<h3>Brute Algo</h3>\n",
    "1. Optimal K = 3\n",
    "2. Accuracy = 88.64\n",
    "3. AUC = 0.5002(approx)\n",
    "4. TN = 0\n",
    "5. TP = 1773"
   ]
  },
  {
   "cell_type": "code",
   "execution_count": 47,
   "metadata": {},
   "outputs": [
    {
     "name": "stdout",
     "output_type": "stream",
     "text": [
      "The accuracy for k = 15 using Kd_tree is 88.64999999999999\n"
     ]
    }
   ],
   "source": [
    "import warnings\n",
    "warnings.filterwarnings(\"ignore\")\n",
    "from sklearn.decomposition import TruncatedSVD\n",
    "svd = TruncatedSVD(n_components = 200)\n",
    "tfidf_tr = svd.fit_transform(X_tr)\n",
    "tfidf_te = svd.transform(X_te)\n",
    "cv_scores = []\n",
    "for i in neighbors:\n",
    "    knn = KNeighborsClassifier(n_neighbors = i, algorithm = 'kd_tree',leaf_size = 35)\n",
    "    cross_val = cross_val_score(knn, tfidf_tr,y_train,cv = 2 , scoring = 'accuracy')\n",
    "    cv_scores.append(cross_val.mean())\n",
    "MSE_tfidf = [1-x for x in cv_scores]\n",
    "optimal_i = neighbors[MSE_tfidf.index(min(MSE_tfidf))]\n",
    "knn_tfidf = KNeighborsClassifier(n_neighbors = optimal_i,algorithm = 'kd_tree',leaf_size = 35,n_jobs = -1)\n",
    "knn_tfidf.fit(tfidf_tr, y_train)\n",
    "pred = knn_tfidf.predict(tfidf_te)\n",
    "acc_tfidf = accuracy_score(y_test, pred)*100\n",
    "print(\"The accuracy for k = {0} using Kd_tree is {1}\".format(optimal_i,acc_tfidf))"
   ]
  },
  {
   "cell_type": "code",
   "execution_count": 48,
   "metadata": {
    "scrolled": false
   },
   "outputs": [
    {
     "name": "stdout",
     "output_type": "stream",
     "text": [
      "             precision    recall  f1-score   support\n",
      "\n",
      "   negative       0.00      0.00      0.00       227\n",
      "   positive       0.89      1.00      0.94      1773\n",
      "\n",
      "avg / total       0.79      0.89      0.83      2000\n",
      "\n"
     ]
    }
   ],
   "source": [
    "from sklearn.metrics import classification_report\n",
    "print(classification_report(y_test,pred))"
   ]
  },
  {
   "cell_type": "code",
   "execution_count": 49,
   "metadata": {
    "scrolled": false
   },
   "outputs": [
    {
     "name": "stdout",
     "output_type": "stream",
     "text": [
      "RECALL SCORE\n",
      "1.0\n",
      "0.0\n",
      "\n",
      "\n",
      "PRECISION SCORE\n",
      "0.8865\n",
      "0.0\n"
     ]
    }
   ],
   "source": [
    "from sklearn.metrics import recall_score , precision_score , roc_auc_score ,roc_curve\n",
    "print('RECALL SCORE')\n",
    "print(recall_score(y_test,pred,pos_label = 'positive'))\n",
    "print(recall_score(y_test,pred,pos_label= 'negative') )\n",
    "print('\\n')\n",
    "print('PRECISION SCORE')\n",
    "print(precision_score(y_test,pred,pos_label = 'positive'))\n",
    "print(precision_score(y_test,pred,pos_label = 'negative'))"
   ]
  },
  {
   "cell_type": "code",
   "execution_count": 50,
   "metadata": {
    "scrolled": false
   },
   "outputs": [
    {
     "data": {
      "image/png": "[encoded data removed]",
      "text/plain": [
       "<matplotlib.figure.Figure at 0x200401992b0>"
      ]
     },
     "metadata": {},
     "output_type": "display_data"
    }
   ],
   "source": [
    "change = lambda x : 1 if x == 'positive' else 0\n",
    "y_true = np.array([change(x) for x in y_test])\n",
    "y_pred = knn_tfidf.predict_proba(tfidf_te)[:,1]\n",
    "#print(y_pred[:,1])\n",
    "\n",
    "fpr,tpr,thresholds = roc_curve(y_true, y_pred)\n",
    "plt.plot(fpr,tpr,'r--')\n",
    "plt.ylabel('True Positive Rate')\n",
    "plt.xlabel('False Positive Rate')\n",
    "plt.legend()\n",
    "plt.show()"
   ]
  },
  {
   "cell_type": "code",
   "execution_count": 51,
   "metadata": {
    "scrolled": true
   },
   "outputs": [
    {
     "name": "stdout",
     "output_type": "stream",
     "text": [
      "0.536774078132\n"
     ]
    }
   ],
   "source": [
    "print(roc_auc_score(y_true,y_pred))"
   ]
  },
  {
   "cell_type": "code",
   "execution_count": 52,
   "metadata": {
    "scrolled": true
   },
   "outputs": [
    {
     "name": "stdout",
     "output_type": "stream",
     "text": [
      "[[   0  227]\n",
      " [   0 1773]]\n"
     ]
    },
    {
     "data": {
      "image/png": "[encoded data removed]",
      "text/plain": [
       "<matplotlib.figure.Figure at 0x2003bf58550>"
      ]
     },
     "metadata": {},
     "output_type": "display_data"
    }
   ],
   "source": [
    "from sklearn.metrics import confusion_matrix\n",
    "import seaborn as sns\n",
    "confusion = confusion_matrix(y_test , pred)\n",
    "print(confusion)\n",
    "df_cm = pd.DataFrame(confusion , index = ['Negative','Positive'])\n",
    "sns.heatmap(df_cm ,annot = True)\n",
    "plt.xticks([0.5,1.5],['Negative','Positive'],rotation = 45)\n",
    "plt.xlabel(\"Predicted\")\n",
    "plt.ylabel(\"Actual\")\n",
    "plt.show()"
   ]
  },
  {
   "cell_type": "markdown",
   "metadata": {},
   "source": [
    "# conclusion\n",
    "<h3>Kd-tree Algo</h3>\n",
    "1. Optimal K = 15\n",
    "2. Accuracy = 88.65\n",
    "3. AUC = 0.536(approx)\n",
    "4. TN = 0\n",
    "5. TP = 1773"
   ]
  },
  {
   "cell_type": "markdown",
   "metadata": {},
   "source": [
    "# KNN on avg W2V using brute and kd_tree algorithm"
   ]
  },
  {
   "cell_type": "code",
   "execution_count": 53,
   "metadata": {
    "collapsed": true,
    "scrolled": true
   },
   "outputs": [],
   "source": [
    "list_of_sent_train = []\n",
    "for i in X_train:\n",
    "    sent=[]\n",
    "    for word in i.split():\n",
    "        sent.append(word.decode('utf-8'))\n",
    "    list_of_sent_train.append(sent)\n",
    "#list_of_sent_train[2543]"
   ]
  },
  {
   "cell_type": "code",
   "execution_count": 54,
   "metadata": {
    "scrolled": true
   },
   "outputs": [
    {
     "name": "stdout",
     "output_type": "stream",
     "text": [
      "8000\n"
     ]
    }
   ],
   "source": [
    "from gensim.models import Word2Vec\n",
    "import gensim\n",
    "w2v_model=gensim.models.Word2Vec(list_of_sent_train,min_count=5,size=50, workers=4)   \n",
    "sent_vectors_train = []\n",
    "for sent in list_of_sent_train:\n",
    "    sent_vec = np.zeros(50)\n",
    "    cnt_words = 0\n",
    "    for word in sent:\n",
    "        try:\n",
    "            vec = w2v_model.wv[word]\n",
    "            #print(vec)\n",
    "            sent_vec += vec\n",
    "            cnt_words += 1\n",
    "        except:\n",
    "            pass\n",
    "    sent_vec /= cnt_words\n",
    "    sent_vectors_train.append(sent_vec)\n",
    "print(len(sent_vectors_train))\n",
    "#print((sent_vectors_train[2543]))\n",
    "    "
   ]
  },
  {
   "cell_type": "code",
   "execution_count": 55,
   "metadata": {
    "collapsed": true
   },
   "outputs": [],
   "source": [
    "list_of_sent_test = []\n",
    "for i in X_test:\n",
    "    sent=[]\n",
    "    for word in i.split():\n",
    "        sent.append(word.decode('utf-8'))\n",
    "    list_of_sent_test.append(sent)"
   ]
  },
  {
   "cell_type": "code",
   "execution_count": 56,
   "metadata": {
    "scrolled": true
   },
   "outputs": [
    {
     "name": "stdout",
     "output_type": "stream",
     "text": [
      "2000\n"
     ]
    }
   ],
   "source": [
    "from gensim.models import Word2Vec\n",
    "import gensim\n",
    "w2v_model=gensim.models.Word2Vec(list_of_sent_test,min_count=5,size=50, workers=4)   \n",
    "sent_vectors_test = []\n",
    "for sent in list_of_sent_test:\n",
    "    sent_vec = np.zeros(50)\n",
    "    cnt_words = 0\n",
    "    for word in sent:\n",
    "        try:\n",
    "            vec = w2v_model.wv[word]\n",
    "            #print(vec)\n",
    "            sent_vec += vec\n",
    "            cnt_words += 1\n",
    "        except:\n",
    "            pass\n",
    "    sent_vec /= cnt_words\n",
    "    sent_vectors_test.append(sent_vec)\n",
    "print(len(sent_vectors_test))\n",
    "    "
   ]
  },
  {
   "cell_type": "code",
   "execution_count": 57,
   "metadata": {
    "scrolled": false
   },
   "outputs": [
    {
     "name": "stdout",
     "output_type": "stream",
     "text": [
      "The accuracy for k = 43 using brute is 88.64999999999999\n"
     ]
    }
   ],
   "source": [
    "cv_scores = []\n",
    "for i in neighbors:\n",
    "    knn = KNeighborsClassifier(n_neighbors = i, algorithm = 'brute')\n",
    "    cross_val = cross_val_score(knn, sent_vectors_train,y_train,cv = 5 , scoring = 'accuracy')\n",
    "    cv_scores.append(cross_val.mean())\n",
    "MSE = [1-x for x in cv_scores]\n",
    "optimal_i = neighbors[MSE.index(min(MSE))]\n",
    "knn = KNeighborsClassifier(n_neighbors = optimal_i,algorithm = 'brute')\n",
    "knn.fit(sent_vectors_train, y_train)\n",
    "pred = knn.predict(sent_vectors_test)\n",
    "acc = accuracy_score(y_test, pred)*100\n",
    "print(\"The accuracy for k = {0} using brute is {1}\".format(optimal_i,acc))"
   ]
  },
  {
   "cell_type": "code",
   "execution_count": 58,
   "metadata": {
    "scrolled": false
   },
   "outputs": [
    {
     "name": "stdout",
     "output_type": "stream",
     "text": [
      "             precision    recall  f1-score   support\n",
      "\n",
      "   negative       0.00      0.00      0.00       227\n",
      "   positive       0.89      1.00      0.94      1773\n",
      "\n",
      "avg / total       0.79      0.89      0.83      2000\n",
      "\n"
     ]
    }
   ],
   "source": [
    "from sklearn.metrics import classification_report\n",
    "print(classification_report(y_test,pred))"
   ]
  },
  {
   "cell_type": "code",
   "execution_count": 59,
   "metadata": {
    "scrolled": false
   },
   "outputs": [
    {
     "name": "stdout",
     "output_type": "stream",
     "text": [
      "RECALL SCORE\n",
      "1.0\n",
      "0.0\n",
      "\n",
      "\n",
      "PRECISION SCORE\n",
      "0.8865\n",
      "0.0\n"
     ]
    }
   ],
   "source": [
    "from sklearn.metrics import recall_score , precision_score , roc_auc_score ,roc_curve\n",
    "print('RECALL SCORE')\n",
    "print(recall_score(y_test,pred,pos_label = 'positive'))\n",
    "print(recall_score(y_test,pred,pos_label= 'negative') )\n",
    "print('\\n')\n",
    "print('PRECISION SCORE')\n",
    "print(precision_score(y_test,pred,pos_label = 'positive'))\n",
    "print(precision_score(y_test,pred,pos_label = 'negative'))"
   ]
  },
  {
   "cell_type": "code",
   "execution_count": 60,
   "metadata": {
    "scrolled": true
   },
   "outputs": [
    {
     "data": {
      "image/png": "[encoded data removed]",
      "text/plain": [
       "<matplotlib.figure.Figure at 0x2002cdcd588>"
      ]
     },
     "metadata": {},
     "output_type": "display_data"
    }
   ],
   "source": [
    "change = lambda x : 1 if x == 'positive' else 0\n",
    "y_true = np.array([change(x) for x in y_test])\n",
    "y_pred = knn.predict_proba(sent_vectors_test)[:,1]\n",
    "\n",
    "#print(y_pred[:,1])\n",
    "\n",
    "fpr,tpr,thresholds = roc_curve(y_true, y_pred)\n",
    "plt.plot(fpr,tpr,'r--')\n",
    "plt.ylabel('True Positive Rate')\n",
    "plt.xlabel('False Positive Rate')\n",
    "plt.legend()\n",
    "plt.show()"
   ]
  },
  {
   "cell_type": "code",
   "execution_count": 61,
   "metadata": {
    "scrolled": true
   },
   "outputs": [
    {
     "name": "stdout",
     "output_type": "stream",
     "text": [
      "0.576564522661\n"
     ]
    }
   ],
   "source": [
    "print(roc_auc_score(y_true,y_pred))"
   ]
  },
  {
   "cell_type": "code",
   "execution_count": 62,
   "metadata": {
    "scrolled": false
   },
   "outputs": [
    {
     "name": "stdout",
     "output_type": "stream",
     "text": [
      "[[   0  227]\n",
      " [   0 1773]]\n"
     ]
    },
    {
     "data": {
      "image/png": "[encoded data removed]",
      "text/plain": [
       "<matplotlib.figure.Figure at 0x2002cd83b70>"
      ]
     },
     "metadata": {},
     "output_type": "display_data"
    }
   ],
   "source": [
    "from sklearn.metrics import confusion_matrix\n",
    "import seaborn as sns\n",
    "confusion = confusion_matrix(y_test , pred)\n",
    "print(confusion)\n",
    "df_cm = pd.DataFrame(confusion , index = ['Negative','Positive'])\n",
    "sns.heatmap(df_cm ,annot = True)\n",
    "plt.xticks([0.5,1.5],['Negative','Positive'],rotation = 45)\n",
    "plt.xlabel(\"Predicted\")\n",
    "plt.ylabel(\"Actual\")\n",
    "plt.show()"
   ]
  },
  {
   "cell_type": "markdown",
   "metadata": {},
   "source": [
    "# conclusion\n",
    "<h3>Brute Algo</h3>\n",
    "1. Optimal K = 43\n",
    "2. Accuracy = 88.65\n",
    "3. AUC = 0.576(approx)\n",
    "4. TN = 0\n",
    "5. TP = 1773"
   ]
  },
  {
   "cell_type": "code",
   "execution_count": 63,
   "metadata": {},
   "outputs": [
    {
     "name": "stdout",
     "output_type": "stream",
     "text": [
      "The accuracy for k = 47 using Kd_tree is 88.64999999999999\n"
     ]
    }
   ],
   "source": [
    "from sklearn.decomposition import TruncatedSVD\n",
    "svd = TruncatedSVD(n_components = 49)\n",
    "sent_vectors_tr = svd.fit_transform(sent_vectors_train)\n",
    "sent_vectors_te = svd.transform(sent_vectors_test)\n",
    "cv_scores = []\n",
    "for i in neighbors:\n",
    "    knn = KNeighborsClassifier(n_neighbors = i, algorithm = 'kd_tree')\n",
    "    cross_val = cross_val_score(knn, sent_vectors_tr,y_train,cv = 10 , scoring = 'accuracy')\n",
    "    cv_scores.append(cross_val.mean())\n",
    "MSE = [1-x for x in cv_scores]\n",
    "optimal_i = neighbors[MSE.index(min(MSE))]\n",
    "knn = KNeighborsClassifier(n_neighbors = optimal_i,algorithm = 'kd_tree')\n",
    "knn.fit(sent_vectors_tr, y_train)\n",
    "pred = knn.predict(sent_vectors_te)\n",
    "acc = accuracy_score(y_test, pred)*100\n",
    "print(\"The accuracy for k = {0} using Kd_tree is {1}\".format(optimal_i,acc))"
   ]
  },
  {
   "cell_type": "code",
   "execution_count": 64,
   "metadata": {
    "scrolled": false
   },
   "outputs": [
    {
     "name": "stdout",
     "output_type": "stream",
     "text": [
      "             precision    recall  f1-score   support\n",
      "\n",
      "   negative       0.00      0.00      0.00       227\n",
      "   positive       0.89      1.00      0.94      1773\n",
      "\n",
      "avg / total       0.79      0.89      0.83      2000\n",
      "\n"
     ]
    }
   ],
   "source": [
    "from sklearn.metrics import classification_report\n",
    "print(classification_report(y_test,pred))"
   ]
  },
  {
   "cell_type": "code",
   "execution_count": 65,
   "metadata": {
    "scrolled": false
   },
   "outputs": [
    {
     "name": "stdout",
     "output_type": "stream",
     "text": [
      "RECALL SCORE\n",
      "1.0\n",
      "0.0\n",
      "\n",
      "\n",
      "PRECISION SCORE\n",
      "0.8865\n",
      "0.0\n"
     ]
    }
   ],
   "source": [
    "from sklearn.metrics import recall_score , precision_score , roc_auc_score ,roc_curve\n",
    "print('RECALL SCORE')\n",
    "print(recall_score(y_test,pred,pos_label = 'positive'))\n",
    "print(recall_score(y_test,pred,pos_label= 'negative') )\n",
    "print('\\n')\n",
    "print('PRECISION SCORE')\n",
    "print(precision_score(y_test,pred,pos_label = 'positive'))\n",
    "print(precision_score(y_test,pred,pos_label = 'negative'))"
   ]
  },
  {
   "cell_type": "code",
   "execution_count": 66,
   "metadata": {
    "scrolled": true
   },
   "outputs": [
    {
     "data": {
      "image/png": "[encoded data removed]",
      "text/plain": [
       "<matplotlib.figure.Figure at 0x2002b33a1d0>"
      ]
     },
     "metadata": {},
     "output_type": "display_data"
    }
   ],
   "source": [
    "change = lambda x : 1 if x == 'positive' else 0\n",
    "y_true = np.array([change(x) for x in y_test])\n",
    "y_pred = knn.predict_proba(sent_vectors_te)[:,1]\n",
    "#print(y_pred[:,1])\n",
    "\n",
    "fpr,tpr,thresholds = roc_curve(y_true, y_pred)\n",
    "plt.plot(fpr,tpr,'r--')\n",
    "plt.ylabel('True Positive Rate')\n",
    "plt.xlabel('False Positive Rate')\n",
    "plt.legend()\n",
    "plt.show()"
   ]
  },
  {
   "cell_type": "code",
   "execution_count": 67,
   "metadata": {
    "scrolled": true
   },
   "outputs": [
    {
     "name": "stdout",
     "output_type": "stream",
     "text": [
      "0.566552621183\n"
     ]
    }
   ],
   "source": [
    "print(roc_auc_score(y_true,y_pred))"
   ]
  },
  {
   "cell_type": "code",
   "execution_count": 68,
   "metadata": {
    "scrolled": false
   },
   "outputs": [
    {
     "name": "stdout",
     "output_type": "stream",
     "text": [
      "[[   0  227]\n",
      " [   0 1773]]\n"
     ]
    },
    {
     "data": {
      "image/png": "[encoded data removed]",
      "text/plain": [
       "<matplotlib.figure.Figure at 0x2003ce664e0>"
      ]
     },
     "metadata": {},
     "output_type": "display_data"
    }
   ],
   "source": [
    "from sklearn.metrics import confusion_matrix\n",
    "import seaborn as sns\n",
    "confusion = confusion_matrix(y_test , pred)\n",
    "print(confusion)\n",
    "df_cm = pd.DataFrame(confusion , index = ['Negative','Positive'])\n",
    "sns.heatmap(df_cm ,annot = True)\n",
    "plt.xticks([0.5,1.5],['Negative','Positive'],rotation = 45)\n",
    "plt.xlabel(\"Predicted\")\n",
    "plt.ylabel(\"Actual\")\n",
    "plt.show()"
   ]
  },
  {
   "cell_type": "markdown",
   "metadata": {},
   "source": [
    "# conclusion\n",
    "<h3>Kd-tree Algo</h3>\n",
    "1. Optimal K = 47\n",
    "2. Accuracy = 88.649\n",
    "3. AUC = 0.5665(approx)\n",
    "4. TN = 0\n",
    "5. TP = 1773"
   ]
  },
  {
   "cell_type": "markdown",
   "metadata": {},
   "source": [
    "# KNN on tf-idf w2v using kd_tree and brute algorithm"
   ]
  },
  {
   "cell_type": "code",
   "execution_count": 69,
   "metadata": {
    "collapsed": true
   },
   "outputs": [],
   "source": [
    "tf_idf_feat = tfidf_vect.get_feature_names()\n",
    "tfidf_sent_vec_train = []\n",
    "row = 0\n",
    "for sent in list_of_sent_train:\n",
    "    sent_vec = np.zeros(50)\n",
    "    weight_sum = 0\n",
    "    for word in sent:\n",
    "        try:\n",
    "            vec = w2v_model.wv[word]\n",
    "            tfidf = tfidf_train[row,tf_idf_feat.index(word)]\n",
    "            sent_vec += (vec*tfidf)\n",
    "            weight_sum += tfidf\n",
    "        except:\n",
    "            pass\n",
    "    sent_vec/= weight_sum\n",
    "    tfidf_sent_vec_train.append(sent_vec)\n",
    "    row += 1\n",
    "        \n",
    "        "
   ]
  },
  {
   "cell_type": "code",
   "execution_count": 70,
   "metadata": {
    "collapsed": true
   },
   "outputs": [],
   "source": [
    "tf_idf_feat = tfidf_vect.get_feature_names()\n",
    "tfidf_sent_vec_test = []\n",
    "row = 0\n",
    "for sent in list_of_sent_test:\n",
    "    sent_vec = np.zeros(50)\n",
    "    weight_sum = 0\n",
    "    for word in sent:\n",
    "        try:\n",
    "            vec = w2v_model.wv[word]\n",
    "            tfidf = tfidf_test[row,tf_idf_feat.index(word)]\n",
    "            sent_vec += (vec*tfidf)\n",
    "            weight_sum += tfidf\n",
    "        except:\n",
    "            pass\n",
    "    sent_vec/= weight_sum\n",
    "    tfidf_sent_vec_test.append(sent_vec)\n",
    "    row += 1\n"
   ]
  },
  {
   "cell_type": "code",
   "execution_count": 93,
   "metadata": {},
   "outputs": [
    {
     "data": {
      "text/plain": [
       "(array([], dtype=int64), array([], dtype=int64))"
      ]
     },
     "execution_count": 93,
     "metadata": {},
     "output_type": "execute_result"
    }
   ],
   "source": [
    "np.where(np.isnan(tfidf_sent_vec_train))"
   ]
  },
  {
   "cell_type": "code",
   "execution_count": 92,
   "metadata": {
    "collapsed": true
   },
   "outputs": [],
   "source": [
    "del tfidf_sent_vec_train[7738]"
   ]
  },
  {
   "cell_type": "code",
   "execution_count": 94,
   "metadata": {
    "collapsed": true
   },
   "outputs": [],
   "source": [
    "del y_train[7738]"
   ]
  },
  {
   "cell_type": "code",
   "execution_count": 95,
   "metadata": {
    "scrolled": false
   },
   "outputs": [
    {
     "name": "stdout",
     "output_type": "stream",
     "text": [
      "The accuracy for k = 19 using brute is 88.64999999999999\n"
     ]
    }
   ],
   "source": [
    "cv_scores = []\n",
    "for i in neighbors:\n",
    "    knn = KNeighborsClassifier(n_neighbors = i, algorithm = 'brute')\n",
    "    cross_val = cross_val_score(knn, tfidf_sent_vec_train,y_train,cv = 5 , scoring = 'accuracy')\n",
    "    cv_scores.append(cross_val.mean())\n",
    "MSE = [1-x for x in cv_scores]\n",
    "optimal_i = neighbors[MSE.index(min(MSE))]\n",
    "knn = KNeighborsClassifier(n_neighbors = optimal_i,algorithm = 'brute')\n",
    "knn.fit(tfidf_sent_vec_train, y_train)\n",
    "pred = knn.predict(tfidf_sent_vec_test)\n",
    "acc = accuracy_score(y_test, pred)*100\n",
    "print(\"The accuracy for k = {0} using brute is {1}\".format(optimal_i,acc))"
   ]
  },
  {
   "cell_type": "code",
   "execution_count": 96,
   "metadata": {
    "scrolled": false
   },
   "outputs": [
    {
     "name": "stdout",
     "output_type": "stream",
     "text": [
      "             precision    recall  f1-score   support\n",
      "\n",
      "   negative       0.00      0.00      0.00       227\n",
      "   positive       0.89      1.00      0.94      1773\n",
      "\n",
      "avg / total       0.79      0.89      0.83      2000\n",
      "\n"
     ]
    }
   ],
   "source": [
    "from sklearn.metrics import classification_report\n",
    "print(classification_report(y_test,pred))"
   ]
  },
  {
   "cell_type": "code",
   "execution_count": 97,
   "metadata": {
    "scrolled": false
   },
   "outputs": [
    {
     "name": "stdout",
     "output_type": "stream",
     "text": [
      "RECALL SCORE\n",
      "1.0\n",
      "0.0\n",
      "\n",
      "\n",
      "PRECISION SCORE\n",
      "0.8865\n",
      "0.0\n"
     ]
    }
   ],
   "source": [
    "from sklearn.metrics import recall_score , precision_score , roc_auc_score ,roc_curve\n",
    "print('RECALL SCORE')\n",
    "print(recall_score(y_test,pred,pos_label = 'positive'))\n",
    "print(recall_score(y_test,pred,pos_label= 'negative') )\n",
    "print('\\n')\n",
    "print('PRECISION SCORE')\n",
    "print(precision_score(y_test,pred,pos_label = 'positive'))\n",
    "print(precision_score(y_test,pred,pos_label = 'negative'))"
   ]
  },
  {
   "cell_type": "code",
   "execution_count": 98,
   "metadata": {
    "scrolled": true
   },
   "outputs": [
    {
     "data": {
      "image/png": "[encoded data removed]",
      "text/plain": [
       "<matplotlib.figure.Figure at 0x2002b33a828>"
      ]
     },
     "metadata": {},
     "output_type": "display_data"
    }
   ],
   "source": [
    "change = lambda x : 1 if x == 'positive' else 0\n",
    "y_true = np.array([change(x) for x in y_test])\n",
    "y_pred = knn.predict_proba(tfidf_sent_vec_test)[:,1]\n",
    "#print(y_pred[:,1])\n",
    "\n",
    "fpr,tpr,thresholds = roc_curve(y_true, y_pred)\n",
    "plt.plot(fpr,tpr,'r--')\n",
    "plt.ylabel('True Positive Rate')\n",
    "plt.xlabel('False Positive Rate')\n",
    "plt.legend()\n",
    "plt.show()"
   ]
  },
  {
   "cell_type": "code",
   "execution_count": 99,
   "metadata": {
    "scrolled": true
   },
   "outputs": [
    {
     "name": "stdout",
     "output_type": "stream",
     "text": [
      "0.570554151728\n"
     ]
    }
   ],
   "source": [
    "print(roc_auc_score(y_true,y_pred))"
   ]
  },
  {
   "cell_type": "code",
   "execution_count": 100,
   "metadata": {
    "scrolled": false
   },
   "outputs": [
    {
     "name": "stdout",
     "output_type": "stream",
     "text": [
      "[[   0  227]\n",
      " [   0 1773]]\n"
     ]
    },
    {
     "data": {
      "image/png": "[encoded data removed]",
      "text/plain": [
       "<matplotlib.figure.Figure at 0x2003eb86518>"
      ]
     },
     "metadata": {},
     "output_type": "display_data"
    }
   ],
   "source": [
    "from sklearn.metrics import confusion_matrix\n",
    "import seaborn as sns\n",
    "confusion = confusion_matrix(y_test , pred)\n",
    "print(confusion)\n",
    "df_cm = pd.DataFrame(confusion , index = ['Negative','Positive'])\n",
    "sns.heatmap(df_cm ,annot = True)\n",
    "plt.xticks([0.5,1.5],['Negative','Positive'],rotation = 45)\n",
    "plt.xlabel(\"Predicted\")\n",
    "plt.ylabel(\"Actual\")\n",
    "plt.show()"
   ]
  },
  {
   "cell_type": "markdown",
   "metadata": {},
   "source": [
    "# conclusion\n",
    "<h3>Brute Algo</h3>\n",
    "1. Optimal K = 19\n",
    "2. Accuracy = 88.649\n",
    "3. AUC = 0.5705(approx)\n",
    "4. TN = 0\n",
    "5. TP = 1773"
   ]
  },
  {
   "cell_type": "code",
   "execution_count": 101,
   "metadata": {},
   "outputs": [
    {
     "name": "stdout",
     "output_type": "stream",
     "text": [
      "The accuracy for k = 15 using Kd_tree is 88.6\n"
     ]
    }
   ],
   "source": [
    "from sklearn.decomposition import TruncatedSVD\n",
    "svd = TruncatedSVD(n_components = 49)\n",
    "tfidf_sent_vec_tr = svd.fit_transform( tfidf_sent_vec_train)\n",
    "tfidf_sent_vec_te = svd.transform( tfidf_sent_vec_test)\n",
    "cv_scores = []\n",
    "for i in neighbors:\n",
    "    knn = KNeighborsClassifier(n_neighbors = i, algorithm = 'kd_tree')\n",
    "    cross_val = cross_val_score(knn,  tfidf_sent_vec_tr,y_train,cv = 5 , scoring = 'accuracy')\n",
    "    cv_scores.append(cross_val.mean())\n",
    "MSE = [1-x for x in cv_scores]\n",
    "optimal_i = neighbors[MSE.index(min(MSE))]\n",
    "knn = KNeighborsClassifier(n_neighbors = optimal_i,algorithm = 'kd_tree')\n",
    "knn.fit( tfidf_sent_vec_tr, y_train)\n",
    "pred = knn.predict( tfidf_sent_vec_te)\n",
    "acc = accuracy_score(y_test, pred)*100\n",
    "print(\"The accuracy for k = {0} using Kd_tree is {1}\".format(optimal_i,acc))"
   ]
  },
  {
   "cell_type": "code",
   "execution_count": 102,
   "metadata": {
    "scrolled": false
   },
   "outputs": [
    {
     "name": "stdout",
     "output_type": "stream",
     "text": [
      "             precision    recall  f1-score   support\n",
      "\n",
      "   negative       0.00      0.00      0.00       227\n",
      "   positive       0.89      1.00      0.94      1773\n",
      "\n",
      "avg / total       0.79      0.89      0.83      2000\n",
      "\n"
     ]
    }
   ],
   "source": [
    "from sklearn.metrics import classification_report\n",
    "print(classification_report(y_test,pred))"
   ]
  },
  {
   "cell_type": "code",
   "execution_count": 103,
   "metadata": {
    "scrolled": false
   },
   "outputs": [
    {
     "name": "stdout",
     "output_type": "stream",
     "text": [
      "RECALL SCORE\n",
      "0.999435984208\n",
      "0.0\n",
      "\n",
      "\n",
      "PRECISION SCORE\n",
      "0.886443221611\n",
      "0.0\n"
     ]
    }
   ],
   "source": [
    "from sklearn.metrics import recall_score , precision_score , roc_auc_score ,roc_curve\n",
    "print('RECALL SCORE')\n",
    "print(recall_score(y_test,pred,pos_label = 'positive'))\n",
    "print(recall_score(y_test,pred,pos_label= 'negative') )\n",
    "print('\\n')\n",
    "print('PRECISION SCORE')\n",
    "print(precision_score(y_test,pred,pos_label = 'positive'))\n",
    "print(precision_score(y_test,pred,pos_label = 'negative'))"
   ]
  },
  {
   "cell_type": "code",
   "execution_count": 104,
   "metadata": {
    "scrolled": true
   },
   "outputs": [
    {
     "data": {
      "image/png": "[encoded data removed]",
      "text/plain": [
       "<matplotlib.figure.Figure at 0x2003ec1f438>"
      ]
     },
     "metadata": {},
     "output_type": "display_data"
    }
   ],
   "source": [
    "change = lambda x : 1 if x == 'positive' else 0\n",
    "y_true = np.array([change(x) for x in y_test])\n",
    "y_pred = knn.predict_proba( tfidf_sent_vec_te)[:,1]\n",
    "#print(y_pred[:,1])\n",
    "\n",
    "fpr,tpr,thresholds = roc_curve(y_true, y_pred)\n",
    "plt.plot(fpr,tpr,'r--')\n",
    "plt.ylabel('True Positive Rate')\n",
    "plt.xlabel('False Positive Rate')\n",
    "plt.legend()\n",
    "plt.show()"
   ]
  },
  {
   "cell_type": "code",
   "execution_count": 105,
   "metadata": {
    "scrolled": true
   },
   "outputs": [
    {
     "name": "stdout",
     "output_type": "stream",
     "text": [
      "0.576373204529\n"
     ]
    }
   ],
   "source": [
    "print(roc_auc_score(y_true,y_pred))"
   ]
  },
  {
   "cell_type": "code",
   "execution_count": 106,
   "metadata": {
    "scrolled": false
   },
   "outputs": [
    {
     "name": "stdout",
     "output_type": "stream",
     "text": [
      "[[   0  227]\n",
      " [   1 1772]]\n"
     ]
    },
    {
     "data": {
      "image/png": "[encoded data removed]",
      "text/plain": [
       "<matplotlib.figure.Figure at 0x2003ce70588>"
      ]
     },
     "metadata": {},
     "output_type": "display_data"
    }
   ],
   "source": [
    "from sklearn.metrics import confusion_matrix\n",
    "import seaborn as sns\n",
    "confusion = confusion_matrix(y_test , pred)\n",
    "print(confusion)\n",
    "df_cm = pd.DataFrame(confusion , index = ['Negative','Positive'])\n",
    "sns.heatmap(df_cm ,annot = True)\n",
    "plt.xticks([0.5,1.5],['Negative','Positive'],rotation = 45)\n",
    "plt.xlabel(\"Predicted\")\n",
    "plt.ylabel(\"Actual\")\n",
    "plt.show()"
   ]
  },
  {
   "cell_type": "markdown",
   "metadata": {},
   "source": [
    "# conclusion\n",
    "<h3>kd-tree Algo</h3>\n",
    "1. Optimal K = 15\n",
    "2. Accuracy = 88.6\n",
    "3. AUC = 0.5763(approx)\n",
    "4. TN = 0\n",
    "5. TP = 1772"
   ]
  },
  {
   "cell_type": "code",
   "execution_count": null,
   "metadata": {
    "collapsed": true
   },
   "outputs": [],
   "source": []
  },
  {
   "cell_type": "code",
   "execution_count": null,
   "metadata": {
    "collapsed": true
   },
   "outputs": [],
   "source": []
  }
 ],
 "metadata": {
  "kernelspec": {
   "display_name": "Python 3",
   "language": "python",
   "name": "python3"
  },
  "language_info": {
   "codemirror_mode": {
    "name": "ipython",
    "version": 3
   },
   "file_extension": ".py",
   "mimetype": "text/x-python",
   "name": "python",
   "nbconvert_exporter": "python",
   "pygments_lexer": "ipython3",
   "version": "3.6.3"
  }
 },
 "nbformat": 4,
 "nbformat_minor": 2
}
