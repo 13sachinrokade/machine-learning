{
 "cells": [
  {
   "cell_type": "code",
   "execution_count": 53,
   "metadata": {},
   "outputs": [],
   "source": [
    "import keras"
   ]
  },
  {
   "cell_type": "code",
   "execution_count": 54,
   "metadata": {},
   "outputs": [
    {
     "data": {
      "text/plain": [
       "'tensorflow'"
      ]
     },
     "execution_count": 54,
     "metadata": {},
     "output_type": "execute_result"
    }
   ],
   "source": [
    "keras.backend.backend()"
   ]
  },
  {
   "cell_type": "code",
   "execution_count": 55,
   "metadata": {},
   "outputs": [],
   "source": [
    "from keras.utils import np_utils\n",
    "from keras.datasets import mnist\n",
    "import seaborn as sns\n",
    "from keras.initializers import RandomNormal"
   ]
  },
  {
   "cell_type": "code",
   "execution_count": 56,
   "metadata": {},
   "outputs": [],
   "source": [
    "import matplotlib.pyplot as plt\n",
    "import numpy as np\n",
    "import time\n",
    "\n",
    "def plt_dynamic(x, vy, ty, ax, colors=['b']):\n",
    "    ax.plot(x, vy, 'b', label=\"Validation Loss\")\n",
    "    ax.plot(x, ty, 'r', label=\"Train Loss\")\n",
    "    plt.legend()\n",
    "    plt.grid()\n",
    "    plt.show()\n",
    "    fig.canvas.draw()"
   ]
  },
  {
   "cell_type": "code",
   "execution_count": 57,
   "metadata": {},
   "outputs": [],
   "source": [
    "(x_train,y_train),(x_test,y_test)=mnist.load_data()"
   ]
  },
  {
   "cell_type": "code",
   "execution_count": 58,
   "metadata": {},
   "outputs": [
    {
     "data": {
      "text/plain": [
       "(60000, 28, 28)"
      ]
     },
     "execution_count": 58,
     "metadata": {},
     "output_type": "execute_result"
    }
   ],
   "source": [
    "x_train.shape"
   ]
  },
  {
   "cell_type": "code",
   "execution_count": 59,
   "metadata": {},
   "outputs": [
    {
     "data": {
      "text/plain": [
       "(10000, 28, 28)"
      ]
     },
     "execution_count": 59,
     "metadata": {},
     "output_type": "execute_result"
    }
   ],
   "source": [
    "x_test.shape"
   ]
  },
  {
   "cell_type": "code",
   "execution_count": 60,
   "metadata": {},
   "outputs": [
    {
     "data": {
      "text/plain": [
       "(60000,)"
      ]
     },
     "execution_count": 60,
     "metadata": {},
     "output_type": "execute_result"
    }
   ],
   "source": [
    "y_train.shape"
   ]
  },
  {
   "cell_type": "code",
   "execution_count": 61,
   "metadata": {},
   "outputs": [
    {
     "data": {
      "text/plain": [
       "(10000,)"
      ]
     },
     "execution_count": 61,
     "metadata": {},
     "output_type": "execute_result"
    }
   ],
   "source": [
    "y_test.shape"
   ]
  },
  {
   "cell_type": "code",
   "execution_count": 62,
   "metadata": {},
   "outputs": [],
   "source": [
    "#converting 28*28 to 784\n",
    "x_train=x_train.reshape(x_train.shape[0],x_train.shape[1] *x_train.shape[2])\n",
    "x_test=x_test.reshape(x_test.shape[0],x_test.shape[1]*x_test.shape[2])"
   ]
  },
  {
   "cell_type": "code",
   "execution_count": 63,
   "metadata": {},
   "outputs": [
    {
     "data": {
      "text/plain": [
       "(60000, 784)"
      ]
     },
     "execution_count": 63,
     "metadata": {},
     "output_type": "execute_result"
    }
   ],
   "source": [
    "x_train.shape"
   ]
  },
  {
   "cell_type": "code",
   "execution_count": 64,
   "metadata": {},
   "outputs": [
    {
     "data": {
      "text/plain": [
       "(10000, 784)"
      ]
     },
     "execution_count": 64,
     "metadata": {},
     "output_type": "execute_result"
    }
   ],
   "source": [
    "x_test.shape"
   ]
  },
  {
   "cell_type": "code",
   "execution_count": 65,
   "metadata": {},
   "outputs": [
    {
     "name": "stdout",
     "output_type": "stream",
     "text": [
      "[  0   0   0   0   0   0   0   0   0   0   0   0   0   0   0   0   0   0\n",
      "   0   0   0   0   0   0   0   0   0   0   0   0   0   0   0   0   0   0\n",
      "   0   0   0   0   0   0   0   0   0   0   0   0   0   0   0   0   0   0\n",
      "   0   0   0   0   0   0   0   0   0   0   0   0   0   0   0   0   0   0\n",
      "   0   0   0   0   0   0   0   0   0   0   0   0   0   0   0   0   0   0\n",
      "   0   0   0   0   0   0   0   0   0   0   0   0   0   0   0   0   0   0\n",
      "   0   0   0   0   0   0   0   0   0   0   0   0   0   0   0   0   0   0\n",
      "   0   0   0   0   0   0   0   0   0   0   0   0   0   0   0   0   0   0\n",
      "   0   0   0   0   0   0   0   0   0   0   0   0   0   0   0   0   0   0\n",
      "   0   0   0   0   0   0   0   0   0   0   0   0   0   0   0   0   0   0\n",
      "   0   0   0   0   0   0   0   0   0   0   0   0   0   0   0   0   0   0\n",
      "   0   0   0   0   0   0   0   0   0   0   0   0   0   0   0   0   0   0\n",
      "   0   0   0   0   0   0   0   0   0   0   0   0   0   0   0   0   0   0\n",
      "  38 113 113 113 114 238 253 253 253 255 206  88   0   0   0   0   0   0\n",
      "   0   0   0   0   0   0   0  57  85 147 234 252 252 252 253 252 252 252\n",
      " 252 253 252 246  75   0   0   0   0   0   0   0   0   0   0  67 197 234\n",
      " 252 253 252 252 252 252 196 195 195 195 195 253 252 252  84   0   0   0\n",
      "   0   0   0   0   0   0   0  85 252 252 252 225 223 114  84  84   0   0\n",
      "   0   0  16 253 252 214  28   0   0   0   0   0   0   0   0   0   0  38\n",
      " 221 157 112   0   0   0   0   0   0   0   0  16 203 253 252 118   0   0\n",
      "   0   0   0   0   0   0   0   0   0   0   0   0   0   0   0   0   0   0\n",
      "   0   0  26 207 253 255 168   0   0   0   0   0   0   0   0   0   0   0\n",
      "   0   0   0   0   0   0   0   0   0   0   0   0 104 252 252 215  33   0\n",
      "   0   0   0   0   0   0   0   0   0   0   0   0   0   0   0   0   0   0\n",
      "   0   0   0  67 240 252 220  31   0   0   0   0   0   0   0   0   0   0\n",
      "   0   0   0   0   0   0   0   0   0   0   0   0  29 181 252 217  37   0\n",
      "   0   0   0   0   0   0   0   0   0   0   0   0   0   0   0   0   0   0\n",
      "   0   0   0   0 253 252 252  84   0   0   0   0   0   0   0   0   0   0\n",
      "   0   0   0   0   0   0   0   0   0   0   0   0  76 191 255 215 110   0\n",
      "   0   0   0   0   0   0   0   0   0   0   0   0   0   0   0   0   0   0\n",
      "   0   0   0  19 196 252 253 121   0   0   0   0   0   0   0   0   0   0\n",
      "   0   0   0   0   0   0   0   0   0   0   0   0  67 209 252 252  56   6\n",
      "   0   0   0   0   0   0   0   0   0   0   0   0   0   0   0   0   0   0\n",
      "   0   0   0  29 181 252 217  84   0   0   0   0   0   0   0   0   0   0\n",
      "   0   0   0   0   0   0   0   0   0   0   0   0   0 253 252 252  84   0\n",
      "   0   0   0   0   0   0   0   0   0   0   0   0   0   0   0   0   0   0\n",
      "   0   0   0  13 191 255 215  31   0   0   0   0   0   0   0   0   0   0\n",
      "   0   0   0   0   0   0   0   0   0   0   0   0   0 154 252 253 121   0\n",
      "   0   0   0   0   0   0   0   0   0   0   0   0   0   0   0   0   0   0\n",
      "   0   0   0   0  13 187 252 133   6   0   0   0   0   0   0   0   0   0\n",
      "   0   0   0   0   0   0   0   0   0   0   0   0   0   0  57 252 252   0\n",
      "   0   0   0   0   0   0   0   0   0   0   0   0   0   0   0   0   0   0\n",
      "   0   0   0   0   0   0  57 252 252   0   0   0   0   0   0   0   0   0\n",
      "   0   0   0   0   0   0   0   0   0   0]\n"
     ]
    }
   ],
   "source": [
    "print(x_train[123]) #some data point"
   ]
  },
  {
   "cell_type": "code",
   "execution_count": 66,
   "metadata": {},
   "outputs": [
    {
     "name": "stdout",
     "output_type": "stream",
     "text": [
      "Requirement already satisfied: sklearn in c:\\users\\student\\anaconda3\\envs\\tensorflow\\lib\\site-packages (0.0)\n",
      "Requirement already satisfied: scikit-learn in c:\\users\\student\\anaconda3\\envs\\tensorflow\\lib\\site-packages (from sklearn) (0.21.2)\n",
      "Requirement already satisfied: scipy>=0.17.0 in c:\\users\\student\\anaconda3\\envs\\tensorflow\\lib\\site-packages (from scikit-learn->sklearn) (1.2.1)\n",
      "Requirement already satisfied: joblib>=0.11 in c:\\users\\student\\anaconda3\\envs\\tensorflow\\lib\\site-packages (from scikit-learn->sklearn) (0.13.2)\n",
      "Requirement already satisfied: numpy>=1.11.0 in c:\\users\\student\\anaconda3\\envs\\tensorflow\\lib\\site-packages (from scikit-learn->sklearn) (1.16.4)\n"
     ]
    }
   ],
   "source": [
    "#normalize\n",
    "#two ways\n",
    "#1\n",
    "\n",
    "import sys\n",
    "!{sys.executable} -m pip install sklearn\n",
    "\n",
    "from sklearn.preprocessing import normalize\n",
    "#x1=normalize(x_train[:,np.newaxis], axis=0)"
   ]
  },
  {
   "cell_type": "code",
   "execution_count": 67,
   "metadata": {},
   "outputs": [],
   "source": [
    "x_train = x_train/255\n",
    "x_test = x_test/255"
   ]
  },
  {
   "cell_type": "code",
   "execution_count": 68,
   "metadata": {},
   "outputs": [
    {
     "name": "stdout",
     "output_type": "stream",
     "text": [
      "5\n",
      "[0. 0. 0. 0. 0. 1. 0. 0. 0. 0.]\n"
     ]
    }
   ],
   "source": [
    "print(y_train[0])\n",
    "\n",
    "y_train=np_utils.to_categorical(y_train,10)\n",
    "y_test=np_utils.to_categorical(y_test,10)  # dont run many times this will agian divieds the class labels\n",
    "print(y_train[0])"
   ]
  },
  {
   "cell_type": "code",
   "execution_count": 71,
   "metadata": {},
   "outputs": [],
   "source": [
    "#https://keras.io/getting-started/sequential-model-guide/\n",
    "#softmax ding here\n",
    "from keras.models import Sequential\n",
    "from keras.layers import Activation,Dense"
   ]
  },
  {
   "cell_type": "code",
   "execution_count": 73,
   "metadata": {},
   "outputs": [],
   "source": [
    "output_dim = 10\n",
    "input_dim = x_train.shape[1]\n",
    "\n",
    "batch_size = 128 \n",
    "nb_epoch = 20"
   ]
  },
  {
   "cell_type": "code",
   "execution_count": 77,
   "metadata": {},
   "outputs": [],
   "source": [
    "model=Sequential()\n",
    "model.add(Dense(output_dim, input_dim=input_dim, activation='softmax')) #putting imput_dim as extra cause dense accepts only one parameter\n"
   ]
  },
  {
   "cell_type": "code",
   "execution_count": 86,
   "metadata": {},
   "outputs": [
    {
     "name": "stdout",
     "output_type": "stream",
     "text": [
      "_________________________________________________________________\n",
      "Layer (type)                 Output Shape              Param #   \n",
      "=================================================================\n",
      "dense_3 (Dense)              (None, 10)                7850      \n",
      "=================================================================\n",
      "Total params: 7,850\n",
      "Trainable params: 7,850\n",
      "Non-trainable params: 0\n",
      "_________________________________________________________________\n"
     ]
    }
   ],
   "source": [
    "model.summary()"
   ]
  },
  {
   "cell_type": "code",
   "execution_count": 78,
   "metadata": {},
   "outputs": [],
   "source": [
    "model.compile(optimizer='sgd', loss='categorical_crossentropy', metrics=['accuracy'])"
   ]
  },
  {
   "cell_type": "code",
   "execution_count": 81,
   "metadata": {},
   "outputs": [
    {
     "name": "stdout",
     "output_type": "stream",
     "text": [
      "Train on 60000 samples, validate on 10000 samples\n",
      "Epoch 1/20\n",
      "60000/60000 [==============================] - 15s 250us/step - loss: 1.2736 - acc: 0.6982 - val_loss: 0.8051 - val_acc: 0.8322\n",
      "Epoch 2/20\n",
      "60000/60000 [==============================] - 10s 162us/step - loss: 0.7135 - acc: 0.8403 - val_loss: 0.6040 - val_acc: 0.8603\n",
      "Epoch 3/20\n",
      "60000/60000 [==============================] - 11s 179us/step - loss: 0.5860 - acc: 0.8584 - val_loss: 0.5231 - val_acc: 0.8729\n",
      "Epoch 4/20\n",
      "60000/60000 [==============================] - 11s 184us/step - loss: 0.5246 - acc: 0.8682 - val_loss: 0.4782 - val_acc: 0.8794\n",
      "Epoch 5/20\n",
      "60000/60000 [==============================] - 10s 170us/step - loss: 0.4872 - acc: 0.8750 - val_loss: 0.4486 - val_acc: 0.8835\n",
      "Epoch 6/20\n",
      "60000/60000 [==============================] - 11s 179us/step - loss: 0.4614 - acc: 0.8794 - val_loss: 0.4273 - val_acc: 0.8885\n",
      "Epoch 7/20\n",
      "60000/60000 [==============================] - 11s 179us/step - loss: 0.4423 - acc: 0.8829 - val_loss: 0.4116 - val_acc: 0.8911 acc: 0.88\n",
      "Epoch 8/20\n",
      "60000/60000 [==============================] - 9s 154us/step - loss: 0.4275 - acc: 0.8858 - val_loss: 0.3988 - val_acc: 0.8944\n",
      "Epoch 9/20\n",
      "60000/60000 [==============================] - 11s 177us/step - loss: 0.4154 - acc: 0.8887 - val_loss: 0.3885 - val_acc: 0.8964\n",
      "Epoch 10/20\n",
      "60000/60000 [==============================] - 11s 187us/step - loss: 0.4055 - acc: 0.8910 - val_loss: 0.3800 - val_acc: 0.8980\n",
      "Epoch 11/20\n",
      "60000/60000 [==============================] - 11s 183us/step - loss: 0.3970 - acc: 0.8931 - val_loss: 0.3729 - val_acc: 0.8990\n",
      "Epoch 12/20\n",
      "60000/60000 [==============================] - 12s 202us/step - loss: 0.3897 - acc: 0.8942 - val_loss: 0.3665 - val_acc: 0.9009\n",
      "Epoch 13/20\n",
      "60000/60000 [==============================] - 11s 177us/step - loss: 0.3834 - acc: 0.8960 - val_loss: 0.3609 - val_acc: 0.9021\n",
      "Epoch 14/20\n",
      "60000/60000 [==============================] - 10s 173us/step - loss: 0.3778 - acc: 0.8971 - val_loss: 0.3560 - val_acc: 0.9039\n",
      "Epoch 15/20\n",
      "60000/60000 [==============================] - 11s 183us/step - loss: 0.3727 - acc: 0.8983 - val_loss: 0.3517 - val_acc: 0.9041\n",
      "Epoch 16/20\n",
      "60000/60000 [==============================] - 11s 186us/step - loss: 0.3683 - acc: 0.8991 - val_loss: 0.3478 - val_acc: 0.9049\n",
      "Epoch 17/20\n",
      "60000/60000 [==============================] - 12s 200us/step - loss: 0.3642 - acc: 0.9000 - val_loss: 0.3441 - val_acc: 0.9057\n",
      "Epoch 18/20\n",
      "60000/60000 [==============================] - 11s 180us/step - loss: 0.3604 - acc: 0.9011 - val_loss: 0.3413 - val_acc: 0.9070\n",
      "Epoch 19/20\n",
      "60000/60000 [==============================] - 12s 197us/step - loss: 0.3570 - acc: 0.9018 - val_loss: 0.3382 - val_acc: 0.9071\n",
      "Epoch 20/20\n",
      "60000/60000 [==============================] - 11s 185us/step - loss: 0.3539 - acc: 0.9023 - val_loss: 0.3356 - val_acc: 0.9075\n"
     ]
    }
   ],
   "source": [
    "resluts = model.fit(x_train, y_train, batch_size=batch_size, epochs=nb_epoch, verbose=1, validation_data=(x_test, y_test)) \n",
    "#it resturn a history datatype"
   ]
  },
  {
   "cell_type": "code",
   "execution_count": 83,
   "metadata": {},
   "outputs": [
    {
     "name": "stdout",
     "output_type": "stream",
     "text": [
      "10000/10000 [==============================] - 3s 252us/step\n",
      "Test score: 0.33564870997071267\n",
      "Test accuracy: 0.9075\n"
     ]
    }
   ],
   "source": [
    "score = model.evaluate(x_test, y_test, verbose=1) \n",
    "print('Test score:', score[0]) \n",
    "print('Test accuracy:', score[1])"
   ]
  },
  {
   "cell_type": "code",
   "execution_count": 85,
   "metadata": {},
   "outputs": [
    {
     "data": {
      "image/png": "[encoded data removed]",
      "text/plain": [
       "<Figure size 432x288 with 1 Axes>"
      ]
     },
     "metadata": {
      "needs_background": "light"
     },
     "output_type": "display_data"
    }
   ],
   "source": [
    "fig,ax = plt.subplots(1,1)\n",
    "ax.set_xlabel('epoch') ; \n",
    "ax.set_ylabel('Categorical Crossentropy Loss')\n",
    "x = list(range(1,nb_epoch+1))\n",
    "\n",
    "vy = resluts.history['val_loss']\n",
    "ty = resluts.history['loss']\n",
    "plt_dynamic(x, vy, ty, ax)"
   ]
  },
  {
   "cell_type": "markdown",
   "metadata": {},
   "source": [
    "# mlp+sigmoidactivation+sgdoptimizer"
   ]
  },
  {
   "cell_type": "code",
   "execution_count": 87,
   "metadata": {},
   "outputs": [
    {
     "name": "stdout",
     "output_type": "stream",
     "text": [
      "_________________________________________________________________\n",
      "Layer (type)                 Output Shape              Param #   \n",
      "=================================================================\n",
      "dense_4 (Dense)              (None, 512)               401920    \n",
      "_________________________________________________________________\n",
      "dense_5 (Dense)              (None, 128)               65664     \n",
      "_________________________________________________________________\n",
      "dense_6 (Dense)              (None, 10)                1290      \n",
      "=================================================================\n",
      "Total params: 468,874\n",
      "Trainable params: 468,874\n",
      "Non-trainable params: 0\n",
      "_________________________________________________________________\n"
     ]
    }
   ],
   "source": [
    "model_sigmoid = Sequential()\n",
    "model_sigmoid.add(Dense(512, activation='sigmoid', input_dim=input_dim))\n",
    "model_sigmoid.add(Dense(128, activation='sigmoid'))\n",
    "model_sigmoid.add(Dense(output_dim, activation='softmax'))\n",
    "\n",
    "model_sigmoid.summary()"
   ]
  },
  {
   "cell_type": "markdown",
   "metadata": {},
   "source": [
    "\n",
    "    Mean Squared Error: mean_squared_error, MSE or mse\n",
    "    Mean Absolute Error: mean_absolute_error, MAE, mae\n",
    "    Mean Absolute Percentage Error: mean_absolute_percentage_error, MAPE, mape\n",
    "    Cosine Proximity: cosine_proximity, cosine\n"
   ]
  },
  {
   "cell_type": "code",
   "execution_count": 90,
   "metadata": {},
   "outputs": [],
   "source": [
    "model_sigmoid.compile(optimizer='sgd', loss='categorical_crossentropy', metrics=['accuracy','mse', 'mae', 'mape', 'cosine'])"
   ]
  },
  {
   "cell_type": "code",
   "execution_count": 91,
   "metadata": {},
   "outputs": [
    {
     "name": "stdout",
     "output_type": "stream",
     "text": [
      "Train on 60000 samples, validate on 10000 samples\n",
      "Epoch 1/20\n",
      "60000/60000 [==============================] - 168s 3ms/step - loss: 2.2756 - acc: 0.2126 - mean_squared_error: 0.0894 - mean_absolute_error: 0.1793 - mean_absolute_percentage_error: 89658455.4496 - cosine_proximity: -0.3254 - val_loss: 2.2319 - val_acc: 0.4088 - val_mean_squared_error: 0.0885 - val_mean_absolute_error: 0.1784 - val_mean_absolute_percentage_error: 89214183.7696 - val_cosine_proximity: -0.3400\n",
      "Epoch 2/20\n",
      "60000/60000 [==============================] - 149s 2ms/step - loss: 2.1897 - acc: 0.4437 - mean_squared_error: 0.0875 - mean_absolute_error: 0.1774 - mean_absolute_percentage_error: 88719920.0469 - cosine_proximity: -0.3548 - val_loss: 2.1367 - val_acc: 0.5595 - val_mean_squared_error: 0.0863 - val_mean_absolute_error: 0.1761 - val_mean_absolute_percentage_error: 88072009.3184 - val_cosine_proximity: -0.3739\n",
      "Epoch 3/20\n",
      "60000/60000 [==============================] - 165s 3ms/step - loss: 2.0781 - acc: 0.5749 - mean_squared_error: 0.0848 - mean_absolute_error: 0.1745 - mean_absolute_percentage_error: 87252406.2080 - cosine_proximity: -0.3965 - val_loss: 1.9996 - val_acc: 0.6268 - val_mean_squared_error: 0.0827 - val_mean_absolute_error: 0.1722 - val_mean_absolute_percentage_error: 86119262.6048 - val_cosine_proximity: -0.4268\n",
      "Epoch 4/20\n",
      "60000/60000 [==============================] - 138s 2ms/step - loss: 1.9161 - acc: 0.6291 - mean_squared_error: 0.0802 - mean_absolute_error: 0.1693 - mean_absolute_percentage_error: 84627307.5243 - cosine_proximity: -0.4599 - val_loss: 1.8054 - val_acc: 0.6755 - val_mean_squared_error: 0.0769 - val_mean_absolute_error: 0.1652 - val_mean_absolute_percentage_error: 82621864.0896 - val_cosine_proximity: -0.5025\n",
      "Epoch 5/20\n",
      "60000/60000 [==============================] - 56s 931us/step - loss: 1.7023 - acc: 0.6682 - mean_squared_error: 0.0733 - mean_absolute_error: 0.1604 - mean_absolute_percentage_error: 80209223.6800 - cosine_proximity: -0.5400 - val_loss: 1.5711 - val_acc: 0.6791 - val_mean_squared_error: 0.0686 - val_mean_absolute_error: 0.1539 - val_mean_absolute_percentage_error: 76967567.1040 - val_cosine_proximity: -0.5857\n",
      "Epoch 6/20\n",
      "60000/60000 [==============================] - 51s 853us/step - loss: 1.4706 - acc: 0.7010 - mean_squared_error: 0.0649 - mean_absolute_error: 0.1483 - mean_absolute_percentage_error: 74140877.6619 - cosine_proximity: -0.6173 - val_loss: 1.3441 - val_acc: 0.7283 - val_mean_squared_error: 0.0601 - val_mean_absolute_error: 0.1409 - val_mean_absolute_percentage_error: 70437348.1728 - val_cosine_proximity: -0.6559\n",
      "Epoch 7/20\n",
      "60000/60000 [==============================] - 51s 845us/step - loss: 1.2621 - acc: 0.7347 - mean_squared_error: 0.0567 - mean_absolute_error: 0.1350 - mean_absolute_percentage_error: 67516747.3323 - cosine_proximity: -0.6791 - val_loss: 1.1558 - val_acc: 0.7468 - val_mean_squared_error: 0.0524 - val_mean_absolute_error: 0.1273 - val_mean_absolute_percentage_error: 63650650.7264 - val_cosine_proximity: -0.7085\n",
      "Epoch 8/20\n",
      "60000/60000 [==============================] - 46s 759us/step - loss: 1.0948 - acc: 0.7603 - mean_squared_error: 0.0497 - mean_absolute_error: 0.1225 - mean_absolute_percentage_error: 61240761.5147 - cosine_proximity: -0.7252 - val_loss: 1.0090 - val_acc: 0.7773 - val_mean_squared_error: 0.0461 - val_mean_absolute_error: 0.1157 - val_mean_absolute_percentage_error: 57843629.2096 - val_cosine_proximity: -0.7486\n",
      "Epoch 9/20\n",
      "60000/60000 [==============================] - 47s 786us/step - loss: 0.9651 - acc: 0.7823 - mean_squared_error: 0.0440 - mean_absolute_error: 0.1114 - mean_absolute_percentage_error: 55709775.8272 - cosine_proximity: -0.7598 - val_loss: 0.8948 - val_acc: 0.8005 - val_mean_squared_error: 0.0410 - val_mean_absolute_error: 0.1053 - val_mean_absolute_percentage_error: 52663516.1216 - val_cosine_proximity: -0.7787\n",
      "Epoch 10/20\n",
      "60000/60000 [==============================] - 46s 766us/step - loss: 0.8644 - acc: 0.8012 - mean_squared_error: 0.0394 - mean_absolute_error: 0.1019 - mean_absolute_percentage_error: 50965373.7643 - cosine_proximity: -0.7861 - val_loss: 0.8065 - val_acc: 0.8092 - val_mean_squared_error: 0.0369 - val_mean_absolute_error: 0.0962 - val_mean_absolute_percentage_error: 48096970.8672 - val_cosine_proximity: -0.8005\n",
      "Epoch 11/20\n",
      "60000/60000 [==============================] - 43s 722us/step - loss: 0.7850 - acc: 0.8149 - mean_squared_error: 0.0357 - mean_absolute_error: 0.0938 - mean_absolute_percentage_error: 46890190.2656 - cosine_proximity: -0.8064 - val_loss: 0.7356 - val_acc: 0.8268 - val_mean_squared_error: 0.0335 - val_mean_absolute_error: 0.0889 - val_mean_absolute_percentage_error: 44427463.9936 - val_cosine_proximity: -0.8196\n",
      "Epoch 12/20\n",
      "60000/60000 [==============================] - 44s 728us/step - loss: 0.7218 - acc: 0.8285 - mean_squared_error: 0.0328 - mean_absolute_error: 0.0869 - mean_absolute_percentage_error: 43449174.2037 - cosine_proximity: -0.8224 - val_loss: 0.6788 - val_acc: 0.8348 - val_mean_squared_error: 0.0308 - val_mean_absolute_error: 0.0825 - val_mean_absolute_percentage_error: 41248687.0528 - val_cosine_proximity: -0.8337\n",
      "Epoch 13/20\n",
      "60000/60000 [==============================] - 45s 744us/step - loss: 0.6703 - acc: 0.8375 - mean_squared_error: 0.0303 - mean_absolute_error: 0.0810 - mean_absolute_percentage_error: 40489380.8277 - cosine_proximity: -0.8352 - val_loss: 0.6329 - val_acc: 0.8453 - val_mean_squared_error: 0.0286 - val_mean_absolute_error: 0.0773 - val_mean_absolute_percentage_error: 38666024.3456 - val_cosine_proximity: -0.8456\n",
      "Epoch 14/20\n",
      "60000/60000 [==============================] - 42s 696us/step - loss: 0.6282 - acc: 0.8454 - mean_squared_error: 0.0283 - mean_absolute_error: 0.0760 - mean_absolute_percentage_error: 37977736.7317 - cosine_proximity: -0.8457 - val_loss: 0.5942 - val_acc: 0.8524 - val_mean_squared_error: 0.0267 - val_mean_absolute_error: 0.0726 - val_mean_absolute_percentage_error: 36280803.6576 - val_cosine_proximity: -0.8551\n",
      "Epoch 15/20\n",
      "60000/60000 [==============================] - 40s 661us/step - loss: 0.5933 - acc: 0.8522 - mean_squared_error: 0.0267 - mean_absolute_error: 0.0716 - mean_absolute_percentage_error: 35815420.1493 - cosine_proximity: -0.8542 - val_loss: 0.5622 - val_acc: 0.8585 - val_mean_squared_error: 0.0252 - val_mean_absolute_error: 0.0684 - val_mean_absolute_percentage_error: 34211162.8800 - val_cosine_proximity: -0.8625\n",
      "Epoch 16/20\n",
      "60000/60000 [==============================] - 38s 627us/step - loss: 0.5638 - acc: 0.8574 - mean_squared_error: 0.0253 - mean_absolute_error: 0.0679 - mean_absolute_percentage_error: 33925440.7936 - cosine_proximity: -0.8613 - val_loss: 0.5351 - val_acc: 0.8624 - val_mean_squared_error: 0.0239 - val_mean_absolute_error: 0.0648 - val_mean_absolute_percentage_error: 32420996.9568 - val_cosine_proximity: -0.8689\n",
      "Epoch 17/20\n",
      "60000/60000 [==============================] - 38s 628us/step - loss: 0.5389 - acc: 0.8627 - mean_squared_error: 0.0241 - mean_absolute_error: 0.0646 - mean_absolute_percentage_error: 32298743.0955 - cosine_proximity: -0.8673 - val_loss: 0.5116 - val_acc: 0.8687 - val_mean_squared_error: 0.0228 - val_mean_absolute_error: 0.0617 - val_mean_absolute_percentage_error: 30870504.8096 - val_cosine_proximity: -0.8750\n",
      "Epoch 18/20\n",
      "60000/60000 [==============================] - 39s 656us/step - loss: 0.5175 - acc: 0.8672 - mean_squared_error: 0.0231 - mean_absolute_error: 0.0617 - mean_absolute_percentage_error: 30865480.0523 - cosine_proximity: -0.8725 - val_loss: 0.4924 - val_acc: 0.8726 - val_mean_squared_error: 0.0219 - val_mean_absolute_error: 0.0590 - val_mean_absolute_percentage_error: 29504421.7664 - val_cosine_proximity: -0.8793\n",
      "Epoch 19/20\n",
      "60000/60000 [==============================] - 39s 651us/step - loss: 0.4990 - acc: 0.8702 - mean_squared_error: 0.0222 - mean_absolute_error: 0.0592 - mean_absolute_percentage_error: 29587608.6368 - cosine_proximity: -0.8769 - val_loss: 0.4748 - val_acc: 0.8762 - val_mean_squared_error: 0.0210 - val_mean_absolute_error: 0.0568 - val_mean_absolute_percentage_error: 28400748.6752 - val_cosine_proximity: -0.8840\n",
      "Epoch 20/20\n",
      "60000/60000 [==============================] - 35s 581us/step - loss: 0.4829 - acc: 0.8739 - mean_squared_error: 0.0214 - mean_absolute_error: 0.0570 - mean_absolute_percentage_error: 28487709.2427 - cosine_proximity: -0.8807 - val_loss: 0.4597 - val_acc: 0.8790 - val_mean_squared_error: 0.0203 - val_mean_absolute_error: 0.0546 - val_mean_absolute_percentage_error: 27276169.3760 - val_cosine_proximity: -0.8873\n"
     ]
    }
   ],
   "source": [
    "resluts=model_sigmoid.fit(x_train,y_train,batch_size=batch_size,epochs=20,validation_data=(x_test,y_test))\n"
   ]
  },
  {
   "cell_type": "code",
   "execution_count": 97,
   "metadata": {},
   "outputs": [
    {
     "name": "stdout",
     "output_type": "stream",
     "text": [
      "10000/10000 [==============================] - 6s 631us/step\n",
      "Test score: 0.4597442167043686\n",
      "Test accuracy: 0.879\n"
     ]
    }
   ],
   "source": [
    "score = model_sigmoid.evaluate(x_test, y_test, verbose=1) \n",
    "print('Test score:', score[0]) \n",
    "print('Test accuracy:', score[1])"
   ]
  },
  {
   "cell_type": "code",
   "execution_count": 98,
   "metadata": {},
   "outputs": [
    {
     "data": {
      "image/png": "[encoded data removed]",
      "text/plain": [
       "<Figure size 432x288 with 1 Axes>"
      ]
     },
     "metadata": {
      "needs_background": "light"
     },
     "output_type": "display_data"
    }
   ],
   "source": [
    "fig,ax = plt.subplots(1,1)\n",
    "ax.set_xlabel('epoch') ; \n",
    "ax.set_ylabel('Categorical Crossentropy Loss')\n",
    "x = list(range(1,nb_epoch+1))\n",
    "\n",
    "vy = resluts.history['val_loss']\n",
    "ty = resluts.history['loss']\n",
    "plt_dynamic(x, vy, ty, ax)"
   ]
  },
  {
   "cell_type": "markdown",
   "metadata": {},
   "source": [
    "# mlp+relu+he_intializer+adamoptimizer"
   ]
  },
  {
   "cell_type": "code",
   "execution_count": 102,
   "metadata": {},
   "outputs": [
    {
     "name": "stdout",
     "output_type": "stream",
     "text": [
      "_________________________________________________________________\n",
      "Layer (type)                 Output Shape              Param #   \n",
      "=================================================================\n",
      "dense_10 (Dense)             (None, 512)               401920    \n",
      "_________________________________________________________________\n",
      "dense_11 (Dense)             (None, 128)               65664     \n",
      "_________________________________________________________________\n",
      "dense_12 (Dense)             (None, 10)                1290      \n",
      "=================================================================\n",
      "Total params: 468,874\n",
      "Trainable params: 468,874\n",
      "Non-trainable params: 0\n",
      "_________________________________________________________________\n"
     ]
    }
   ],
   "source": [
    "\n",
    "#using henormalization also here\n",
    "model_relu=Sequential()\n",
    "model_relu.add(Dense(512, activation='relu', input_shape=(input_dim,), kernel_initializer=\"he_normal\"))\n",
    "model_relu.add(Dense(128, activation='relu', kernel_initializer=\"he_normal\") )\n",
    "model_relu.add(Dense(output_dim, activation='softmax'))\n",
    "\n",
    "model_relu.summary()"
   ]
  },
  {
   "cell_type": "code",
   "execution_count": 103,
   "metadata": {},
   "outputs": [],
   "source": [
    "model_relu.compile(optimizer=\"adam\",loss=\"categorical_crossentropy\",metrics=[\"accuracy\"])"
   ]
  },
  {
   "cell_type": "code",
   "execution_count": 105,
   "metadata": {},
   "outputs": [
    {
     "name": "stdout",
     "output_type": "stream",
     "text": [
      "Train on 60000 samples, validate on 10000 samples\n",
      "Epoch 1/20\n",
      "60000/60000 [==============================] - 41s 680us/step - loss: 0.0167 - acc: 0.9941 - val_loss: 0.0828 - val_acc: 0.9793\n",
      "Epoch 2/20\n",
      "60000/60000 [==============================] - 41s 689us/step - loss: 0.0101 - acc: 0.9967 - val_loss: 0.0822 - val_acc: 0.9793\n",
      "Epoch 3/20\n",
      "60000/60000 [==============================] - 40s 670us/step - loss: 0.0105 - acc: 0.9968 - val_loss: 0.0830 - val_acc: 0.9799\n",
      "Epoch 4/20\n",
      "60000/60000 [==============================] - 41s 691us/step - loss: 0.0100 - acc: 0.9968 - val_loss: 0.0713 - val_acc: 0.9829\n",
      "Epoch 5/20\n",
      "60000/60000 [==============================] - 41s 690us/step - loss: 0.0112 - acc: 0.9963 - val_loss: 0.0799 - val_acc: 0.9816\n",
      "Epoch 6/20\n",
      "60000/60000 [==============================] - 44s 731us/step - loss: 0.0082 - acc: 0.9971 - val_loss: 0.0886 - val_acc: 0.9804\n",
      "Epoch 7/20\n",
      "60000/60000 [==============================] - 44s 726us/step - loss: 0.0106 - acc: 0.9966 - val_loss: 0.0972 - val_acc: 0.9776\n",
      "Epoch 8/20\n",
      "60000/60000 [==============================] - 43s 712us/step - loss: 0.0086 - acc: 0.9972 - val_loss: 0.0894 - val_acc: 0.9822\n",
      "Epoch 9/20\n",
      "60000/60000 [==============================] - 41s 679us/step - loss: 0.0080 - acc: 0.9974 - val_loss: 0.0926 - val_acc: 0.9804\n",
      "Epoch 10/20\n",
      "60000/60000 [==============================] - 43s 717us/step - loss: 0.0041 - acc: 0.9988 - val_loss: 0.1044 - val_acc: 0.9780\n",
      "Epoch 11/20\n",
      "60000/60000 [==============================] - 41s 683us/step - loss: 0.0099 - acc: 0.9969 - val_loss: 0.0982 - val_acc: 0.9802\n",
      "Epoch 12/20\n",
      "60000/60000 [==============================] - 42s 698us/step - loss: 0.0083 - acc: 0.9975 - val_loss: 0.0956 - val_acc: 0.9795\n",
      "Epoch 13/20\n",
      "60000/60000 [==============================] - 42s 700us/step - loss: 0.0035 - acc: 0.9992 - val_loss: 0.0789 - val_acc: 0.9842\n",
      "Epoch 14/20\n",
      "60000/60000 [==============================] - 40s 662us/step - loss: 0.0033 - acc: 0.9990 - val_loss: 0.1020 - val_acc: 0.9788\n",
      "Epoch 15/20\n",
      "60000/60000 [==============================] - 41s 675us/step - loss: 0.0115 - acc: 0.9962 - val_loss: 0.1072 - val_acc: 0.9794\n",
      "Epoch 16/20\n",
      "60000/60000 [==============================] - 42s 694us/step - loss: 0.0051 - acc: 0.9986 - val_loss: 0.0863 - val_acc: 0.9828\n",
      "Epoch 17/20\n",
      "60000/60000 [==============================] - 40s 664us/step - loss: 0.0020 - acc: 0.9995 - val_loss: 0.0854 - val_acc: 0.9836\n",
      "Epoch 18/20\n",
      "60000/60000 [==============================] - 48s 794us/step - loss: 0.0038 - acc: 0.9990 - val_loss: 0.1120 - val_acc: 0.9796\n",
      "Epoch 19/20\n",
      "60000/60000 [==============================] - 44s 726us/step - loss: 0.0118 - acc: 0.9964 - val_loss: 0.0933 - val_acc: 0.9823\n",
      "Epoch 20/20\n",
      "60000/60000 [==============================] - 44s 739us/step - loss: 0.0024 - acc: 0.9992 - val_loss: 0.0958 - val_acc: 0.9822\n"
     ]
    }
   ],
   "source": [
    "results=model_relu.fit(x_train,y_train,batch_size=batch_size,epochs=20,validation_data=(x_test,y_test))"
   ]
  },
  {
   "cell_type": "code",
   "execution_count": 106,
   "metadata": {},
   "outputs": [
    {
     "name": "stdout",
     "output_type": "stream",
     "text": [
      "10000/10000 [==============================] - 5s 550us/step\n",
      "Test score: 0.09576116777540901\n",
      "Test accuracy: 0.9822\n"
     ]
    }
   ],
   "source": [
    "score = model_relu.evaluate(x_test, y_test, verbose=1) \n",
    "print('Test score:', score[0]) \n",
    "print('Test accuracy:', score[1])"
   ]
  },
  {
   "cell_type": "code",
   "execution_count": 107,
   "metadata": {},
   "outputs": [
    {
     "data": {
      "image/png": "[encoded data removed]",
      "text/plain": [
       "<Figure size 432x288 with 1 Axes>"
      ]
     },
     "metadata": {
      "needs_background": "light"
     },
     "output_type": "display_data"
    }
   ],
   "source": [
    "fig,ax = plt.subplots(1,1)\n",
    "ax.set_xlabel('epoch') ; \n",
    "ax.set_ylabel('Categorical Crossentropy Loss')\n",
    "x = list(range(1,nb_epoch+1))\n",
    "\n",
    "vy = results.history['val_loss']\n",
    "ty = results.history['loss']\n",
    "plt_dynamic(x, vy, ty, ax)"
   ]
  },
  {
   "cell_type": "markdown",
   "metadata": {},
   "source": [
    "# mlp+batch_normalization+relu+adam"
   ]
  },
  {
   "cell_type": "code",
   "execution_count": 108,
   "metadata": {},
   "outputs": [
    {
     "name": "stdout",
     "output_type": "stream",
     "text": [
      "_________________________________________________________________\n",
      "Layer (type)                 Output Shape              Param #   \n",
      "=================================================================\n",
      "dense_13 (Dense)             (None, 512)               401920    \n",
      "_________________________________________________________________\n",
      "batch_normalization_1 (Batch (None, 512)               2048      \n",
      "_________________________________________________________________\n",
      "dense_14 (Dense)             (None, 128)               65664     \n",
      "_________________________________________________________________\n",
      "batch_normalization_2 (Batch (None, 128)               512       \n",
      "_________________________________________________________________\n",
      "dense_15 (Dense)             (None, 10)                1290      \n",
      "=================================================================\n",
      "Total params: 471,434\n",
      "Trainable params: 470,154\n",
      "Non-trainable params: 1,280\n",
      "_________________________________________________________________\n"
     ]
    }
   ],
   "source": [
    "from keras.layers.normalization import BatchNormalization\n",
    "\n",
    "model_batch = Sequential()\n",
    "\n",
    "model_batch.add(Dense(512, activation='relu', input_shape=(input_dim,), kernel_initializer=\"he_normal\"))\n",
    "model_batch.add(BatchNormalization())\n",
    "\n",
    "model_batch.add(Dense(128, activation='relu', kernel_initializer=\"he_normal\") )\n",
    "model_batch.add(BatchNormalization())\n",
    "\n",
    "model_batch.add(Dense(output_dim, activation='softmax'))\n",
    "\n",
    "\n",
    "model_batch.summary()"
   ]
  },
  {
   "cell_type": "code",
   "execution_count": 113,
   "metadata": {},
   "outputs": [
    {
     "name": "stdout",
     "output_type": "stream",
     "text": [
      "Train on 60000 samples, validate on 10000 samples\n",
      "Epoch 1/20\n",
      "60000/60000 [==============================] - 56s 940us/step - loss: 0.1818 - acc: 0.9455 - val_loss: 0.0975 - val_acc: 0.9694\n",
      "Epoch 2/20\n",
      "60000/60000 [==============================] - 50s 831us/step - loss: 0.0699 - acc: 0.9790 - val_loss: 0.0828 - val_acc: 0.9753\n",
      "Epoch 3/20\n",
      "60000/60000 [==============================] - 46s 769us/step - loss: 0.0458 - acc: 0.9857 - val_loss: 0.0682 - val_acc: 0.9782\n",
      "Epoch 4/20\n",
      "60000/60000 [==============================] - 48s 796us/step - loss: 0.0337 - acc: 0.9895 - val_loss: 0.0713 - val_acc: 0.9774\n",
      "Epoch 5/20\n",
      "60000/60000 [==============================] - 52s 871us/step - loss: 0.0249 - acc: 0.9922 - val_loss: 0.0817 - val_acc: 0.9752\n",
      "Epoch 6/20\n",
      "60000/60000 [==============================] - 48s 794us/step - loss: 0.0213 - acc: 0.9930 - val_loss: 0.0782 - val_acc: 0.9785\n",
      "Epoch 7/20\n",
      "60000/60000 [==============================] - 52s 860us/step - loss: 0.0207 - acc: 0.9930 - val_loss: 0.0822 - val_acc: 0.9763\n",
      "Epoch 8/20\n",
      "60000/60000 [==============================] - 46s 773us/step - loss: 0.0150 - acc: 0.9952 - val_loss: 0.0781 - val_acc: 0.9784\n",
      "Epoch 9/20\n",
      "60000/60000 [==============================] - 47s 788us/step - loss: 0.0116 - acc: 0.9966 - val_loss: 0.0777 - val_acc: 0.9780\n",
      "Epoch 10/20\n",
      "60000/60000 [==============================] - 48s 803us/step - loss: 0.0156 - acc: 0.9950 - val_loss: 0.0856 - val_acc: 0.9772\n",
      "Epoch 11/20\n",
      "60000/60000 [==============================] - 53s 876us/step - loss: 0.0156 - acc: 0.9953 - val_loss: 0.0784 - val_acc: 0.9787\n",
      "Epoch 12/20\n",
      "60000/60000 [==============================] - 53s 891us/step - loss: 0.0123 - acc: 0.9959 - val_loss: 0.0928 - val_acc: 0.9766\n",
      "Epoch 13/20\n",
      "60000/60000 [==============================] - 52s 858us/step - loss: 0.0094 - acc: 0.9968 - val_loss: 0.0837 - val_acc: 0.9781\n",
      "Epoch 14/20\n",
      "60000/60000 [==============================] - 50s 841us/step - loss: 0.0107 - acc: 0.9965 - val_loss: 0.1122 - val_acc: 0.9731\n",
      "Epoch 15/20\n",
      "60000/60000 [==============================] - 50s 840us/step - loss: 0.0106 - acc: 0.9965 - val_loss: 0.0875 - val_acc: 0.9781\n",
      "Epoch 16/20\n",
      "60000/60000 [==============================] - 47s 791us/step - loss: 0.0087 - acc: 0.9970 - val_loss: 0.0775 - val_acc: 0.9798\n",
      "Epoch 17/20\n",
      "60000/60000 [==============================] - 47s 787us/step - loss: 0.0072 - acc: 0.9976 - val_loss: 0.0846 - val_acc: 0.9797\n",
      "Epoch 18/20\n",
      "60000/60000 [==============================] - 48s 804us/step - loss: 0.0080 - acc: 0.9973 - val_loss: 0.0840 - val_acc: 0.9788\n",
      "Epoch 19/20\n",
      "60000/60000 [==============================] - 49s 823us/step - loss: 0.0089 - acc: 0.9970 - val_loss: 0.0762 - val_acc: 0.9806\n",
      "Epoch 20/20\n",
      "60000/60000 [==============================] - 58s 969us/step - loss: 0.0068 - acc: 0.9976 - val_loss: 0.0781 - val_acc: 0.9824\n"
     ]
    }
   ],
   "source": [
    "model_batch.compile(optimizer='adam', loss='categorical_crossentropy', metrics=['accuracy'])\n",
    "\n",
    "results = model_batch.fit(x_train, y_train, batch_size=batch_size, epochs=nb_epoch, verbose=1, validation_data=(x_test, y_test))"
   ]
  },
  {
   "cell_type": "code",
   "execution_count": 115,
   "metadata": {},
   "outputs": [
    {
     "name": "stdout",
     "output_type": "stream",
     "text": [
      "10000/10000 [==============================] - 7s 727us/step\n",
      "Test score: 0.07812557466479848\n",
      "Test accuracy: 0.9824\n"
     ]
    }
   ],
   "source": [
    "score = model_batch.evaluate(x_test, y_test, verbose=1) \n",
    "print('Test score:', score[0]) \n",
    "print('Test accuracy:', score[1])"
   ]
  },
  {
   "cell_type": "code",
   "execution_count": 116,
   "metadata": {},
   "outputs": [
    {
     "data": {
      "image/png": "[encoded data removed]",
      "text/plain": [
       "<Figure size 432x288 with 1 Axes>"
      ]
     },
     "metadata": {
      "needs_background": "light"
     },
     "output_type": "display_data"
    }
   ],
   "source": [
    "fig,ax = plt.subplots(1,1)\n",
    "ax.set_xlabel('epoch') ; \n",
    "ax.set_ylabel('Categorical Crossentropy Loss')\n",
    "x = list(range(1,nb_epoch+1))\n",
    "\n",
    "vy = results.history['val_loss']\n",
    "ty = results.history['loss']\n",
    "plt_dynamic(x, vy, ty, ax)"
   ]
  },
  {
   "cell_type": "markdown",
   "metadata": {},
   "source": [
    "# mlp+relu+dropout+batch_normalization+adam"
   ]
  },
  {
   "cell_type": "code",
   "execution_count": 117,
   "metadata": {},
   "outputs": [
    {
     "name": "stdout",
     "output_type": "stream",
     "text": [
      "_________________________________________________________________\n",
      "Layer (type)                 Output Shape              Param #   \n",
      "=================================================================\n",
      "dense_22 (Dense)             (None, 512)               401920    \n",
      "_________________________________________________________________\n",
      "batch_normalization_3 (Batch (None, 512)               2048      \n",
      "_________________________________________________________________\n",
      "dropout_1 (Dropout)          (None, 512)               0         \n",
      "_________________________________________________________________\n",
      "dense_23 (Dense)             (None, 128)               65664     \n",
      "_________________________________________________________________\n",
      "batch_normalization_4 (Batch (None, 128)               512       \n",
      "_________________________________________________________________\n",
      "dropout_2 (Dropout)          (None, 128)               0         \n",
      "_________________________________________________________________\n",
      "dense_24 (Dense)             (None, 10)                1290      \n",
      "=================================================================\n",
      "Total params: 471,434\n",
      "Trainable params: 470,154\n",
      "Non-trainable params: 1,280\n",
      "_________________________________________________________________\n"
     ]
    }
   ],
   "source": [
    "from keras.layers import Dropout\n",
    "\n",
    "model_drop = Sequential()\n",
    "\n",
    "model_drop.add(Dense(512, activation='relu', input_shape=(input_dim,), kernel_initializer=\"he_normal\"))\n",
    "model_drop.add(BatchNormalization())\n",
    "model_drop.add(Dropout(0.5))\n",
    "\n",
    "model_drop.add(Dense(128, activation='relu', kernel_initializer=\"he_normal\") )\n",
    "model_drop.add(BatchNormalization())\n",
    "model_drop.add(Dropout(0.5))\n",
    "\n",
    "model_drop.add(Dense(output_dim, activation='softmax'))\n",
    "\n",
    "\n",
    "model_drop.summary()"
   ]
  },
  {
   "cell_type": "code",
   "execution_count": 118,
   "metadata": {},
   "outputs": [
    {
     "name": "stdout",
     "output_type": "stream",
     "text": [
      "Train on 60000 samples, validate on 10000 samples\n",
      "Epoch 1/20\n",
      "60000/60000 [==============================] - 19s 325us/step - loss: 0.4245 - acc: 0.8709 - val_loss: 0.1443 - val_acc: 0.9559\n",
      "Epoch 2/20\n",
      "60000/60000 [==============================] - 16s 265us/step - loss: 0.2049 - acc: 0.9387 - val_loss: 0.1087 - val_acc: 0.9662\n",
      "Epoch 3/20\n",
      "60000/60000 [==============================] - 17s 278us/step - loss: 0.1554 - acc: 0.9518 - val_loss: 0.0988 - val_acc: 0.9674\n",
      "Epoch 4/20\n",
      "60000/60000 [==============================] - 17s 275us/step - loss: 0.1397 - acc: 0.9582 - val_loss: 0.0791 - val_acc: 0.9744\n",
      "Epoch 5/20\n",
      "60000/60000 [==============================] - 17s 288us/step - loss: 0.1213 - acc: 0.9620 - val_loss: 0.0699 - val_acc: 0.9774\n",
      "Epoch 6/20\n",
      "60000/60000 [==============================] - 21s 354us/step - loss: 0.1088 - acc: 0.9668 - val_loss: 0.0719 - val_acc: 0.9782\n",
      "Epoch 7/20\n",
      "60000/60000 [==============================] - 17s 282us/step - loss: 0.0956 - acc: 0.9708 - val_loss: 0.0625 - val_acc: 0.9804\n",
      "Epoch 8/20\n",
      "60000/60000 [==============================] - 16s 262us/step - loss: 0.0932 - acc: 0.9708 - val_loss: 0.0669 - val_acc: 0.9786\n",
      "Epoch 9/20\n",
      "60000/60000 [==============================] - 16s 263us/step - loss: 0.0877 - acc: 0.9733 - val_loss: 0.0643 - val_acc: 0.9807\n",
      "Epoch 10/20\n",
      "60000/60000 [==============================] - 16s 265us/step - loss: 0.0834 - acc: 0.9736 - val_loss: 0.0567 - val_acc: 0.9821\n",
      "Epoch 11/20\n",
      "60000/60000 [==============================] - 16s 261us/step - loss: 0.0766 - acc: 0.9767 - val_loss: 0.0601 - val_acc: 0.9813\n",
      "Epoch 12/20\n",
      "60000/60000 [==============================] - 16s 266us/step - loss: 0.0710 - acc: 0.9771 - val_loss: 0.0599 - val_acc: 0.9823\n",
      "Epoch 13/20\n",
      "60000/60000 [==============================] - 16s 266us/step - loss: 0.0691 - acc: 0.9783 - val_loss: 0.0583 - val_acc: 0.9831\n",
      "Epoch 14/20\n",
      "60000/60000 [==============================] - 16s 259us/step - loss: 0.0681 - acc: 0.9784 - val_loss: 0.0588 - val_acc: 0.9823\n",
      "Epoch 15/20\n",
      "60000/60000 [==============================] - 16s 272us/step - loss: 0.0648 - acc: 0.9793 - val_loss: 0.0539 - val_acc: 0.9832\n",
      "Epoch 16/20\n",
      "60000/60000 [==============================] - 16s 265us/step - loss: 0.0636 - acc: 0.9802 - val_loss: 0.0569 - val_acc: 0.9827\n",
      "Epoch 17/20\n",
      "60000/60000 [==============================] - 17s 276us/step - loss: 0.0611 - acc: 0.9806 - val_loss: 0.0568 - val_acc: 0.9838\n",
      "Epoch 18/20\n",
      "60000/60000 [==============================] - 17s 285us/step - loss: 0.0566 - acc: 0.9824 - val_loss: 0.0541 - val_acc: 0.9842\n",
      "Epoch 19/20\n",
      "60000/60000 [==============================] - 16s 272us/step - loss: 0.0544 - acc: 0.9824 - val_loss: 0.0550 - val_acc: 0.9831\n",
      "Epoch 20/20\n",
      "60000/60000 [==============================] - 16s 269us/step - loss: 0.0563 - acc: 0.9827 - val_loss: 0.0570 - val_acc: 0.9833\n"
     ]
    }
   ],
   "source": [
    "model_drop.compile(optimizer='adam', loss='categorical_crossentropy', metrics=['accuracy'])\n",
    "results= model_drop.fit(x_train, y_train, batch_size=batch_size, epochs=nb_epoch, verbose=1, validation_data=(x_test, y_test))"
   ]
  },
  {
   "cell_type": "code",
   "execution_count": 120,
   "metadata": {},
   "outputs": [
    {
     "name": "stdout",
     "output_type": "stream",
     "text": [
      "10000/10000 [==============================] - 1s 146us/step\n",
      "Test score: 0.05703787430896773\n",
      "Test accuracy: 0.9833\n"
     ]
    }
   ],
   "source": [
    "score = model_drop.evaluate(x_test, y_test, verbose=1) \n",
    "print('Test score:', score[0]) \n",
    "print('Test accuracy:', score[1])"
   ]
  },
  {
   "cell_type": "code",
   "execution_count": 121,
   "metadata": {},
   "outputs": [
    {
     "data": {
      "image/png": "[encoded data removed]",
      "text/plain": [
       "<Figure size 432x288 with 1 Axes>"
      ]
     },
     "metadata": {
      "needs_background": "light"
     },
     "output_type": "display_data"
    }
   ],
   "source": [
    "fig,ax = plt.subplots(1,1)\n",
    "ax.set_xlabel('epoch') ; \n",
    "ax.set_ylabel('Categorical Crossentropy Loss')\n",
    "x = list(range(1,nb_epoch+1))\n",
    "\n",
    "vy = results.history['val_loss']\n",
    "ty = results.history['loss']\n",
    "plt_dynamic(x, vy, ty, ax)"
   ]
  },
  {
   "cell_type": "markdown",
   "metadata": {},
   "source": [
    "# hyperparameter tuning using gridsearchcv"
   ]
  },
  {
   "cell_type": "code",
   "execution_count": 124,
   "metadata": {},
   "outputs": [],
   "source": [
    "from keras.optimizers import Adam,RMSprop,SGD\n",
    "#we can do tuning on any parameter \n",
    "#https://machinelearningmastery.com/grid-search-hyperparameters-deep-learning-models-python-keras/\n",
    "#the above link has many types of tuning like optimizers,epochs,initializers,activation_functions etc\n",
    "def best_hyperparameters(activ):\n",
    "\n",
    "    model = Sequential()\n",
    "    model.add(Dense(512, activation=activ, input_shape=(input_dim,), kernel_initializer=RandomNormal(mean=0.0, stddev=0.062, seed=None)))\n",
    "    model.add(Dense(128, activation=activ, kernel_initializer=RandomNormal(mean=0.0, stddev=0.125, seed=None)) )\n",
    "    model.add(Dense(output_dim, activation='softmax'))\n",
    "\n",
    "\n",
    "    model.compile(loss='categorical_crossentropy', metrics=['accuracy'], optimizer='adam')\n",
    "    \n",
    "    return model"
   ]
  },
  {
   "cell_type": "code",
   "execution_count": 125,
   "metadata": {},
   "outputs": [],
   "source": [
    "activ = ['sigmoid','relu']\n",
    "\n",
    "from keras.wrappers.scikit_learn import KerasClassifier\n",
    "from sklearn.model_selection import GridSearchCV\n",
    "\n",
    "model = KerasClassifier(build_fn=best_hyperparameters, epochs=nb_epoch, batch_size=batch_size, verbose=0)\n",
    "param_grid = dict(activ=activ)\n",
    "\n",
    "\n",
    "grid = GridSearchCV(estimator=model, param_grid=param_grid)\n",
    "grid_result = grid.fit(x_train, y_train)"
   ]
  },
  {
   "cell_type": "code",
   "execution_count": 126,
   "metadata": {},
   "outputs": [
    {
     "name": "stdout",
     "output_type": "stream",
     "text": [
      "Best: 0.978717 using {'activ': 'relu'}\n",
      "0.975600 (0.001314) with: {'activ': 'sigmoid'}\n",
      "0.978717 (0.001968) with: {'activ': 'relu'}\n"
     ]
    }
   ],
   "source": [
    "print(\"Best: %f using %s\" % (grid_result.best_score_, grid_result.best_params_))\n",
    "means = grid_result.cv_results_['mean_test_score']\n",
    "stds = grid_result.cv_results_['std_test_score']\n",
    "params = grid_result.cv_results_['params']\n",
    "for mean, stdev, param in zip(means, stds, params):\n",
    "    print(\"%f (%f) with: %r\" % (mean, stdev, param))"
   ]
  },
  {
   "cell_type": "code",
   "execution_count": null,
   "metadata": {},
   "outputs": [],
   "source": []
  },
  {
   "cell_type": "markdown",
   "metadata": {},
   "source": [
    "# tuning on all"
   ]
  },
  {
   "cell_type": "code",
   "execution_count": 133,
   "metadata": {},
   "outputs": [],
   "source": [
    "def best_hyperparameters(activ,optimiz,initiali,drop_rate):\n",
    "\n",
    "    model = Sequential()\n",
    "    model.add(Dense(512, activation=activ, input_shape=(input_dim,), kernel_initializer=initiali))\n",
    "    model.add(Dropout(drop_rate))\n",
    "    model.add(Dense(128, activation=activ, kernel_initializer=initiali) )\n",
    "    model.add(Dense(output_dim, activation='softmax'))\n",
    "\n",
    "\n",
    "    model.compile(loss='categorical_crossentropy', metrics=['accuracy'], optimizer=optimiz)\n",
    "    \n",
    "    return model"
   ]
  },
  {
   "cell_type": "code",
   "execution_count": null,
   "metadata": {},
   "outputs": [],
   "source": [
    "activ = ['softmax', 'softplus', 'softsign', 'relu', 'tanh', 'sigmoid', 'hard_sigmoid', 'linear']\n",
    "initializers = ['uniform', 'lecun_uniform', 'normal', 'zero', 'glorot_normal', 'glorot_uniform', 'he_normal', 'he_uniform']\n",
    "optimizer = ['SGD', 'RMSprop', 'Adagrad', 'Adadelta', 'Adam', 'Adamax', 'Nadam']\n",
    "dropout_rate = [0.0, 0.1, 0.2, 0.3, 0.4, 0.5, 0.6, 0.7, 0.8, 0.9]\n",
    "from keras.wrappers.scikit_learn import KerasClassifier\n",
    "from sklearn.model_selection import GridSearchCV\n",
    "\n",
    "model = KerasClassifier(build_fn=best_hyperparameters, epochs=nb_epoch, batch_size=batch_size, verbose=0)\n",
    "param_grid = dict(activ=activ,initiali=initializers,optimiz=optimizer,drop_rate=dropout_rate)\n",
    "\n",
    "\n",
    "\n",
    "grid = GridSearchCV(estimator=model, param_grid=param_grid)\n",
    "grid_result = grid.fit(x_train, y_train)"
   ]
  },
  {
   "cell_type": "code",
   "execution_count": null,
   "metadata": {},
   "outputs": [],
   "source": [
    "print(\"Best: %f using %s\" % (grid_result.best_score_, grid_result.best_params_))\n",
    "\n",
    "means = grid_result.cv_results_['mean_test_score']\n",
    "stds = grid_result.cv_results_['std_test_score']\n",
    "params = grid_result.cv_results_['params']\n",
    "for mean, stdev, param in zip(means, stds, params):\n",
    "    print(\"%f (%f) with: %r\" % (mean, stdev, param))"
   ]
  },
  {
   "cell_type": "code",
   "execution_count": null,
   "metadata": {},
   "outputs": [],
   "source": [
    "import pandas as pd\n",
    "df=pd.DataFrame(grid_result.cv_results_)"
   ]
  },
  {
   "cell_type": "code",
   "execution_count": null,
   "metadata": {},
   "outputs": [],
   "source": []
  },
  {
   "cell_type": "code",
   "execution_count": null,
   "metadata": {},
   "outputs": [],
   "source": []
  }
 ],
 "metadata": {
  "kernelspec": {
   "display_name": "Python 3",
   "language": "python",
   "name": "python3"
  },
  "language_info": {
   "codemirror_mode": {
    "name": "ipython",
    "version": 3
   },
   "file_extension": ".py",
   "mimetype": "text/x-python",
   "name": "python",
   "nbconvert_exporter": "python",
   "pygments_lexer": "ipython3",
   "version": "3.6.8"
  }
 },
 "nbformat": 4,
 "nbformat_minor": 2
}
